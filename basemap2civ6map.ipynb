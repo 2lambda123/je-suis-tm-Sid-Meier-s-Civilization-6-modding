{
 "cells": [
  {
   "cell_type": "code",
   "execution_count": 1,
   "metadata": {},
   "outputs": [],
   "source": [
    "#this script allows you to convert any earth map from python to civmap\n",
    "#you can modify latitude,longitude and projection to get any earth map\n",
    "#in the demonstration below I use basemap package\n",
    "#technically u can use any map even non-map \n",
    "#u just have to map different pixel colors to terrains\n",
    "#it also automatically generates natural wonders\n",
    "#geotags features, resources,\n",
    "#continents and true start locations\n",
    "#based upon coordinates provided in the spreadsheets\n",
    "import os\n",
    "import sqlite3\n",
    "import pandas as pd\n",
    "import numpy as np\n",
    "import matplotlib.pyplot as plt\n",
    "import cv2\n",
    "from mpl_toolkits.basemap import Basemap\n",
    "from matplotlib.patches import Polygon\n",
    "import sklearn.mixture\n",
    "import sklearn.cluster\n",
    "os.chdir('K:/ecole/github/televerser/civ6')"
   ]
  },
  {
   "cell_type": "markdown",
   "metadata": {},
   "source": [
    "### read civmap"
   ]
  },
  {
   "cell_type": "code",
   "execution_count": 2,
   "metadata": {
    "scrolled": true
   },
   "outputs": [],
   "source": [
    "#create copy then rename\n",
    "#i strongly encourage you to create a blank map then load it into python\n",
    "#the directory of customized map from world builder\n",
    "# C:\\Users\\your_user_name\\Documents\\My Games\\Sid Meier's Civilization VI\\Saves\\WorldBuilder\n",
    "os.system('copy nouveau.Civ6Map copie.Civ6Map')\n",
    "\n",
    "#essentially civ6map is a sql database\n",
    "os.rename('nouveau.Civ6Map','civ.db')"
   ]
  },
  {
   "cell_type": "markdown",
   "metadata": {},
   "source": [
    "### global variables"
   ]
  },
  {
   "cell_type": "code",
   "execution_count": 3,
   "metadata": {},
   "outputs": [],
   "source": [
    "#define no resource land\n",
    "#the sparsity affects how dbscan creates clusters\n",
    "#each cluster centre will be placed with ley line\n",
    "tolerance4noresource=3\n",
    "\n",
    "#scaler determines the cutoff latitude\n",
    "scaler=62000\n",
    "\n",
    "#determine the map centre\n",
    "lon_centre=40\n",
    "lat_centre=25\n",
    "\n",
    "#one of the projection types\n",
    "projection_type='aeqd'\n",
    "\n",
    "#determine map orientation\n",
    "horizontal=True\n",
    "\n",
    "# #viking\n",
    "# scaler=32000\n",
    "# lon_centre=-2\n",
    "# lat_centre=65\n",
    "\n",
    "# #arctic circle\n",
    "# scaler=140000\n",
    "# lon_centre=-70\n",
    "# lat_centre=80\n",
    "\n",
    "# #king arthur\n",
    "# scaler=14000\n",
    "# lon_centre=-4\n",
    "# lat_centre=55\n",
    "\n",
    "# #italia\n",
    "# scaler=16000\n",
    "# lon_centre=13\n",
    "# lat_centre=42\n",
    "\n",
    "# #greco\n",
    "# scaler=14500\n",
    "# lon_centre=24.5\n",
    "# lat_centre=40\n",
    "\n",
    "# #baltique\n",
    "# scaler=23000\n",
    "# lon_centre=18\n",
    "# lat_centre=61\n",
    "\n",
    "# #iberia\n",
    "# scaler=19000\n",
    "# lon_centre=-3\n",
    "# lat_centre=40\n",
    "\n",
    "# #america du sud\n",
    "# scaler=83000\n",
    "# lon_centre=-58\n",
    "# lat_centre=-22\n",
    "\n",
    "# #america du nord\n",
    "# scaler=120000\n",
    "# lon_centre=-110\n",
    "# lat_centre=43\n",
    "\n",
    "# #afrique\n",
    "# scaler=120000\n",
    "# lon_centre=15\n",
    "# lat_centre=0\n",
    "\n",
    "# #mer rouge\n",
    "# scaler=35000\n",
    "# lon_centre=40\n",
    "# lat_centre=20\n",
    "\n",
    "# #asean\n",
    "# scaler=42000\n",
    "# lon_centre=105\n",
    "# lat_centre=5\n",
    "\n",
    "\n",
    "# #horizontal map\n",
    "\n",
    "# #ukraine\n",
    "# scaler=27000\n",
    "# lon_centre=35\n",
    "# lat_centre=49.5\n",
    "\n",
    "# #mideast\n",
    "# scaler=62000\n",
    "# lon_centre=40\n",
    "# lat_centre=25\n",
    "\n",
    "# #carribean\n",
    "# scaler=39000\n",
    "# lon_centre=-78\n",
    "# lat_centre=19\n",
    "\n",
    "# #asean\n",
    "# scaler=80000\n",
    "# lon_centre=130\n",
    "# lat_centre=-1\n",
    "\n",
    "# #sahara\n",
    "# scaler=60000\n",
    "# lon_centre=12\n",
    "# lat_centre=20\n",
    "\n",
    "# #antartica\n",
    "# scaler=240000\n",
    "# lon_centre=60\n",
    "# lat_centre=-90\n",
    "\n",
    "#indo subcontinent\n",
    "# scaler=62000\n",
    "# lon_centre=75\n",
    "# lat_centre=22\n",
    "\n",
    "#oceania\n",
    "# scaler=80000\n",
    "# lon_centre=135\n",
    "# lat_centre=-28"
   ]
  },
  {
   "cell_type": "code",
   "execution_count": 4,
   "metadata": {
    "scrolled": true
   },
   "outputs": [],
   "source": [
    "#map terrain into different colors for viz\n",
    "terrain2color={'TERRAIN_COAST': '#16396c',\n",
    " 'TERRAIN_DESERT': '#b18e35',\n",
    " 'TERRAIN_DESERT_HILLS': '#b18e35',\n",
    " 'TERRAIN_DESERT_MOUNTAIN': '#b18e35',\n",
    " 'TERRAIN_GRASS': '#2b3317',\n",
    " 'TERRAIN_GRASS_HILLS': '#2b3317',\n",
    " 'TERRAIN_GRASS_MOUNTAIN': '#2b3317',\n",
    " 'TERRAIN_OCEAN': '#050e24',\n",
    " 'TERRAIN_PLAINS': '#90aa6e',\n",
    " 'TERRAIN_PLAINS_HILLS': '#90aa6e',\n",
    " 'TERRAIN_PLAINS_MOUNTAIN': '#90aa6e',\n",
    " 'TERRAIN_SNOW': '#eceeee',\n",
    " 'TERRAIN_SNOW_HILLS': '#eceeee',\n",
    " 'TERRAIN_SNOW_MOUNTAIN': '#eceeee',\n",
    " 'TERRAIN_TUNDRA': '#a09b90',\n",
    " 'TERRAIN_TUNDRA_HILLS': '#a09b90',\n",
    " 'TERRAIN_TUNDRA_MOUNTAIN': '#a09b90'}\n",
    "\n",
    "#map colors into different terrains\n",
    "#remove mountain tiles for simplicity\n",
    "color2terrain={\n",
    " '#90aa6e': 'TERRAIN_PLAINS',\n",
    " '#16396c': 'TERRAIN_COAST',\n",
    " '#b18e35': 'TERRAIN_DESERT',\n",
    " '#2b3317': 'TERRAIN_GRASS',\n",
    " '#eceeee': 'TERRAIN_SNOW',\n",
    " '#a09b90': 'TERRAIN_TUNDRA',\n",
    " '#050e24': 'TERRAIN_OCEAN',}\n",
    "\n",
    "#land and sea mask for sanity check\n",
    "masque={\n",
    "'#000000': 'TERRAIN_PLAINS',\n",
    "'#FFFFFF': 'TERRAIN_COAST',}\n",
    "\n",
    "#get elevation data from etopo\n",
    "topo_color={'#705d18': '_MOUNTAIN',\n",
    " '#deae42': '_HILLS',\n",
    " '#eed0ae': '',\n",
    " '#337518': '',\n",
    " '#7fce7a': '',\n",
    " '#a8d5f2': '',\n",
    " '#063bab': '',\n",
    " '#8c6061': '',\n",
    " '#e2e2e2': ''}\n",
    "\n",
    "#leverage continent to differentiate tundra from desert\n",
    "tundra_desert_dif={'CONTINENT_AUSTRALIA':['TUNDRA','DESERT'],\n",
    "'CONTINENT_AFRICA':['TUNDRA','DESERT'],\n",
    "'CONTINENT_ATLANTIS':['TUNDRA','DESERT'],\n",
    "'CONTINENT_AZANIA':['TUNDRA','DESERT'],\n",
    "'CONTINENT_CIMMERIA':['DESERT','TUNDRA',],\n",
    "'CONTINENT_BALTICA':['DESERT','TUNDRA',],\n",
    "'CONTINENT_SIBERIA':['DESERT','TUNDRA',],\n",
    "'CONTINENT_ARCTICA':['DESERT','TUNDRA',],\n",
    " 'CONTINENT_ANTARCTICA':['DESERT','TUNDRA',],\n",
    "'CONTINENT_ZEALANDIA':['DESERT','TUNDRA',],}"
   ]
  },
  {
   "cell_type": "code",
   "execution_count": 5,
   "metadata": {},
   "outputs": [],
   "source": [
    "#useful for players table construction\n",
    "human_player={'ID': {0: 0},\n",
    " 'CivilizationType': {0: 'UNDEFINED'},\n",
    " 'LeaderType': {0: 'UNDEFINED'},\n",
    " 'CivilizationLevelType': {0: 'CIVILIZATION_LEVEL_FULL_CIV'},\n",
    " 'AgendaType': {0: ''},\n",
    " 'Status': {0: 'Human'},\n",
    " 'Handicap': {0: None},\n",
    " 'StartingPosition': {0: None},\n",
    " 'Color': {0: None},\n",
    " 'Initialized': {0: 0}}\n",
    "\n",
    "ai_civs={'ID': {1: 1},\n",
    " 'CivilizationType': {1: 'UNDEFINED'},\n",
    " 'LeaderType': {1: 'UNDEFINED'},\n",
    " 'CivilizationLevelType': {1: 'CIVILIZATION_LEVEL_FULL_CIV'},\n",
    " 'AgendaType': {1: ''},\n",
    " 'Status': {1: 'AI'},\n",
    " 'Handicap': {1: None},\n",
    " 'StartingPosition': {1: None},\n",
    " 'Color': {1: None},\n",
    " 'Initialized': {1: 0}}\n",
    "\n",
    "ai_cities={'ID': {23: 25},\n",
    " 'CivilizationType': {23: 'RANDOM'},\n",
    " 'LeaderType': {23: 'RANDOM'},\n",
    " 'CivilizationLevelType': {23: 'CIVILIZATION_LEVEL_CITY_STATE'},\n",
    " 'AgendaType': {23: ''},\n",
    " 'Status': {23: 'AI'},\n",
    " 'Handicap': {23: None},\n",
    " 'StartingPosition': {23: None},\n",
    " 'Color': {23: None},\n",
    " 'Initialized': {23: 1}}"
   ]
  },
  {
   "cell_type": "code",
   "execution_count": 6,
   "metadata": {},
   "outputs": [],
   "source": [
    "#impassable terrains\n",
    "impassable_terrains=['TERRAIN_DESERT_MOUNTAIN',\n",
    " 'TERRAIN_GRASS_MOUNTAIN',\n",
    " 'TERRAIN_PLAINS_MOUNTAIN',\n",
    " 'TERRAIN_SNOW_MOUNTAIN',\n",
    " 'TERRAIN_TUNDRA_MOUNTAIN']"
   ]
  },
  {
   "cell_type": "code",
   "execution_count": 7,
   "metadata": {
    "scrolled": true
   },
   "outputs": [],
   "source": [
    "#the boundary of each continent in polygon shape\n",
    "continent_area={'CONTINENT_ARCTICA':\n",
    "                {'lat': [65, 90, 90, 65],\n",
    "                       'lon': [-180, -180, 180, 180]},\n",
    " 'CONTINENT_ANTARCTICA': {'lat': [-90, -60, -60, -90],\n",
    "  'lon': [-180, -180, 180, 180]},\n",
    " 'CONTINENT_SOUTH_AMERICA': {'lat': [-60, 10, 10, -60],\n",
    "  'lon': [-180, -180, -30, -30]},\n",
    " 'CONTINENT_AMERICA': {'lat': [30, 10, 10, 30],\n",
    "  'lon': [-180, -180, -30, -30]},\n",
    " 'CONTINENT_NORTH_AMERICA': {'lat': [30, 65, 65, 30],\n",
    "  'lon': [-180, -180, -30, -30]},\n",
    " 'CONTINENT_ZEALANDIA': {'lat': [-60, -30, -30, -60],\n",
    "  'lon': [160, 160, 180, 180]},\n",
    " 'CONTINENT_VAALBARA': {'lat': [-60, -10, -10, -60],\n",
    "                        'lon': [40, 40, 120, 120]},\n",
    " 'CONTINENT_AUSTRALIA': {'lat': [-60, -10, -10, -60],\n",
    "  'lon': [120, 120, 160, 160]},\n",
    " 'CONTINENT_CONGO_CRATON': {'lat': [-10, 0, 0, -10],\n",
    "                            'lon': [-30, -30, 60, 60]},\n",
    " 'CONTINENT_KALAHARIA': {'lat': [-60, -10, -10, -60],\n",
    "                         'lon': [-30, -30, 40, 40]},\n",
    " 'CONTINENT_AFRICA': {'lat': [0, 20, 20, 0],\n",
    "                      'lon': [-30, -30, 25, 25]},\n",
    " 'CONTINENT_ATLANTIS': {'lat': [20, 35, 35, 20],\n",
    "                        'lon': [-30, -30, 25, 25]},\n",
    " 'CONTINENT_AZANIA': {'lat': [0, 35, 35, 0],\n",
    "                      'lon': [25, 25, 60, 60]},\n",
    " 'CONTINENT_CIMMERIA': {'lat': [-10, 35, 35, -10],\n",
    "                        'lon': [60, 60, 90, 90]},\n",
    " 'CONTINENT_KAZAKHSTANIA': {'lat': [35, 55, 55, 35],\n",
    "                            'lon': [30, 30, 90, 90]},\n",
    " 'CONTINENT_ASIA': {'lat': [-10, 55, 55, -10],\n",
    "                    'lon': [90, 90, 180, 180]},\n",
    " 'CONTINENT_OCEANIA': {'lat': [-30, 20, 20, -30],\n",
    "                       'lon': [150,150,180,180]},\n",
    " 'CONTINENT_EUROPE': {'lat': [35, 65, 65, 35],\n",
    "                      'lon': [-30, -30, 30, 30]},\n",
    " 'CONTINENT_BALTICA': {'lat': [55, 65, 65, 55],\n",
    "                       'lon': [0, 0, 30, 30]},\n",
    " 'CONTINENT_SIBERIA': {'lat': [55, 65, 65, 55],\n",
    "                       'lon':[30,30,180,180]},}"
   ]
  },
  {
   "cell_type": "code",
   "execution_count": 8,
   "metadata": {},
   "outputs": [],
   "source": [
    "#specify the required terrains and probs for features\n",
    "#this can be found from\n",
    "#{game dir}/Base/Assets/Gameplay/Data/Features.xml\n",
    "#and also numerous dlc directories...\n",
    "feature_mapping={\n",
    "    'FEATURE_MARSH':{'terrains':['TERRAIN_GRASS',\n",
    "                                 'TERRAIN_PLAINS','TERRAIN_DESERT'],\n",
    "                'prob':0.05},     \n",
    "    'FEATURE_REEF':{'terrains':\n",
    "                                 ['TERRAIN_COAST'],\n",
    "                'prob':1},\n",
    "'FEATURE_VOLCANO':{'terrains':impassable_terrains,\n",
    "                'prob':0.02},\n",
    "'FEATURE_JUNGLE':{'terrains':['TERRAIN_GRASS',\n",
    " 'TERRAIN_GRASS_HILLS',\n",
    " 'TERRAIN_PLAINS',\n",
    " 'TERRAIN_PLAINS_HILLS',],\n",
    "                'prob':1},\n",
    "'FEATURE_FOREST':{'terrains':['TERRAIN_GRASS',\n",
    " 'TERRAIN_PLAINS',\n",
    " 'TERRAIN_TUNDRA',\n",
    " 'TERRAIN_GRASS_HILLS',\n",
    " 'TERRAIN_PLAINS_HILLS',\n",
    " 'TERRAIN_TUNDRA_HILLS'],\n",
    "                'prob':1},\n",
    "'FEATURE_OASIS':{'terrains':['TERRAIN_DESERT'],\n",
    "                'prob':0.05},\n",
    "'FEATURE_GEOTHERMAL_FISSURE':{'terrains':\n",
    "                              ['TERRAIN_DESERT',\n",
    "    'TERRAIN_DESERT_HILLS','TERRAIN_GRASS',\n",
    "  'TERRAIN_GRASS_HILLS','TERRAIN_PLAINS',\n",
    " 'TERRAIN_PLAINS_HILLS', 'TERRAIN_SNOW',\n",
    " 'TERRAIN_SNOW_HILLS', 'TERRAIN_TUNDRA',\n",
    "'TERRAIN_TUNDRA_HILLS',],\n",
    "                'prob':0.2},\n",
    " 'FEATURE_VOLCANIC_SOIL':{'terrains':\n",
    "                          ['TERRAIN_DESERT',\n",
    "    'TERRAIN_DESERT_HILLS','TERRAIN_GRASS',\n",
    "  'TERRAIN_GRASS_HILLS','TERRAIN_PLAINS',\n",
    " 'TERRAIN_PLAINS_HILLS', 'TERRAIN_SNOW',\n",
    " 'TERRAIN_SNOW_HILLS','TERRAIN_TUNDRA',\n",
    "'TERRAIN_TUNDRA_HILLS',],\n",
    "                'prob':0.4},} "
   ]
  },
  {
   "cell_type": "code",
   "execution_count": 9,
   "metadata": {},
   "outputs": [],
   "source": [
    "#specify the required terrains and features for resources\n",
    "#and its frequency across the continents\n",
    "#this can be found from\n",
    "#{game dir}/Base/Assets/Gameplay/Data/Resources.xml\n",
    "#and also numerous dlc directories...\n",
    "resource_mapping={'RESOURCE_MARBLE': {'features': np.nan,\n",
    "  'terrains': 'TERRAIN_GRASS;TERRAIN_GRASS_HILLS;TERRAIN_PLAINS_HILLS',\n",
    "  'prob': 0.005},\n",
    " 'RESOURCE_NITER': {'features': 'FEATURE_FLOODPLAINS_GRASSLAND;FEATURE_FLOODPLAINS_PLAINS',\n",
    "  'terrains': 'TERRAIN_GRASS;TERRAIN_DESERT;TERRAIN_PLAINS;TERRAIN_TUNDRA',\n",
    "  'prob': 0.005},\n",
    " 'RESOURCE_JADE': {'features': np.nan,\n",
    "  'terrains': 'TERRAIN_PLAINS;TERRAIN_TUNDRA;TERRAIN_GRASS',\n",
    "  'prob': 0.005},\n",
    " 'RESOURCE_AMBER': {'features': 'FEATURE_JUNGLE;FEATURE_FOREST',\n",
    "  'terrains': 'TERRAIN_COAST',\n",
    "  'prob': 0.005},\n",
    " 'RESOURCE_TRUFFLES': {'features': 'FEATURE_MARSH;FEATURE_FOREST;FEATURE_JUNGLE',\n",
    "  'terrains': np.nan,\n",
    "  'prob': 0.005},\n",
    " 'RESOURCE_TOBACCO': {'features': 'FEATURE_FOREST;FEATURE_JUNGLE',\n",
    "  'terrains': 'TERRAIN_GRASS;TERRAIN_PLAINS',\n",
    "  'prob': 0.005},\n",
    " 'RESOURCE_BANANAS': {'features': 'FEATURE_JUNGLE',\n",
    "  'terrains': np.nan,\n",
    "  'prob': 0.005},\n",
    " 'RESOURCE_MERCURY': {'features': np.nan,\n",
    "  'terrains': 'TERRAIN_PLAINS',\n",
    "  'prob': 0.01},\n",
    " 'RESOURCE_RICE': {'features': 'FEATURE_FLOODPLAINS_GRASSLAND;FEATURE_MARSH',\n",
    "  'terrains': 'TERRAIN_GRASS',\n",
    "  'prob': 0.005},\n",
    " 'RESOURCE_ALUMINUM': {'features': 'FEATURE_JUNGLE',\n",
    "  'terrains': 'TERRAIN_DESERT_HILLS;TERRAIN_DESERT;TERRAIN_PLAINS;TERRAIN_SNOW_HILLS;TERRAIN_SNOW',\n",
    "  'prob': 0.05},\n",
    " 'RESOURCE_INCENSE': {'features': np.nan,\n",
    "  'terrains': 'TERRAIN_DESERT;TERRAIN_PLAINS',\n",
    "  'prob': 0.005},\n",
    " 'RESOURCE_HONEY': {'features': np.nan,\n",
    "  'terrains': 'TERRAIN_GRASS;TERRAIN_PLAINS',\n",
    "  'prob': 0.005},\n",
    " 'RESOURCE_COFFEE': {'features': 'FEATURE_JUNGLE',\n",
    "  'terrains': 'TERRAIN_GRASS',\n",
    "  'prob': 0.005},\n",
    " 'RESOURCE_WHEAT': {'features': 'FEATURE_FLOODPLAINS;FEATURE_FLOODPLAINS_PLAINS',\n",
    "  'terrains': 'TERRAIN_PLAINS',\n",
    "  'prob': 0.005},\n",
    " 'RESOURCE_SPICES': {'features': 'FEATURE_FOREST;FEATURE_JUNGLE',\n",
    "  'terrains': np.nan,\n",
    "  'prob': 0.005},\n",
    " 'RESOURCE_DIAMONDS': {'features': 'FEATURE_JUNGLE',\n",
    "  'terrains': 'TERRAIN_DESERT_HILLS;TERRAIN_GRASS_HILLS;TERRAIN_PLAINS_HILLS;TERRAIN_TUNDRA_HILLS;TERRAIN_SNOW_HILLS;TERRAIN_SNOW',\n",
    "  'prob': 0.01},\n",
    " 'RESOURCE_CITRUS': {'features': np.nan,\n",
    "  'terrains': 'TERRAIN_GRASS;TERRAIN_PLAINS',\n",
    "  'prob': 0.005},\n",
    " 'RESOURCE_MAIZE': {'features': 'FEATURE_FLOODPLAINS_GRASSLAND;FEATURE_FLOODPLAINS_PLAINS',\n",
    "  'terrains': 'TERRAIN_GRASS;TERRAIN_PLAINS',\n",
    "  'prob': 0.005},\n",
    " 'RESOURCE_COTTON': {'features': 'FEATURE_FLOODPLAINS;FEATURE_FLOODPLAINS_GRASSLAND;FEATURE_FLOODPLAINS_PLAINS',\n",
    "  'terrains': 'TERRAIN_GRASS;TERRAIN_PLAINS',\n",
    "  'prob': 0.005},\n",
    " 'RESOURCE_SILK': {'features': 'FEATURE_FOREST',\n",
    "  'terrains': np.nan,\n",
    "  'prob': 0.005},\n",
    " 'RESOURCE_URANIUM': {'features': 'FEATURE_JUNGLE;FEATURE_FOREST',\n",
    "  'terrains': 'TERRAIN_DESERT;TERRAIN_DESERT_HILLS;TERRAIN_GRASS;TERRAIN_GRASS_HILLS;TERRAIN_PLAINS;TERRAIN_PLAINS_HILLS;TERRAIN_SNOW;TERRAIN_SNOW_HILLS;TERRAIN_TUNDRA;TERRAIN_TUNDRA_HILLS',\n",
    "  'prob': 0.002},\n",
    " 'RESOURCE_IVORY': {'features': 'FEATURE_JUNGLE;FEATURE_FOREST',\n",
    "  'terrains': 'TERRAIN_DESERT;TERRAIN_PLAINS;TERRAIN_PLAINS_HILLS',\n",
    "  'prob': 0.005},\n",
    " 'RESOURCE_COAL': {'features': 'FEATURE_FOREST',\n",
    "  'terrains': 'TERRAIN_GRASS_HILLS;TERRAIN_PLAINS_HILLS;TERRAIN_SNOW_HILLS;TERRAIN_SNOW',\n",
    "  'prob': 0.008},\n",
    " 'RESOURCE_SALT': {'features': np.nan,\n",
    "  'terrains': 'TERRAIN_DESERT;TERRAIN_PLAINS;TERRAIN_TUNDRA',\n",
    "  'prob': 0.01},\n",
    " 'RESOURCE_OIL': {'features': 'FEATURE_MARSH;FEATURE_FLOODPLAINS',\n",
    "  'terrains': 'TERRAIN_COAST;TERRAIN_DESERT;TERRAIN_SNOW;TERRAIN_TUNDRA',\n",
    "  'prob': 0.01},\n",
    " 'RESOURCE_TEA': {'features': np.nan,\n",
    "  'terrains': 'TERRAIN_GRASS;TERRAIN_GRASS_HILLS',\n",
    "  'prob': 0.005},\n",
    " 'RESOURCE_IRON': {'features': np.nan,\n",
    "  'terrains': 'TERRAIN_DESERT_HILLS;TERRAIN_GRASS_HILLS;TERRAIN_PLAINS_HILLS;TERRAIN_TUNDRA_HILLS;TERRAIN_SNOW;TERRAIN_SNOW_HILLS',\n",
    "  'prob': 0.02},\n",
    " 'RESOURCE_OLIVES': {'features': np.nan,\n",
    "  'terrains': 'TERRAIN_GRASS',\n",
    "  'prob': 0.01},\n",
    " 'RESOURCE_SUGAR': {'features': 'FEATURE_FLOODPLAINS;FEATURE_MARSH;FEATURE_FLOODPLAINS_GRASSLAND;FEATURE_FLOODPLAINS_PLAINS',\n",
    "  'terrains': np.nan,\n",
    "  'prob': 0.005},\n",
    " 'RESOURCE_WINE': {'features': 'FEATURE_FOREST',\n",
    "  'terrains': 'TERRAIN_GRASS;TERRAIN_PLAINS',\n",
    "  'prob': 0.005},\n",
    " 'RESOURCE_HORSES': {'features': np.nan,\n",
    "  'terrains': 'TERRAIN_GRASS;TERRAIN_PLAINS',\n",
    "  'prob': 0.01},\n",
    " 'RESOURCE_SILVER': {'features': np.nan,\n",
    "  'terrains': 'TERRAIN_DESERT;TERRAIN_TUNDRA;TERRAIN_DESERT_HILLS;TERRAIN_TUNDRA_HILLS;TERRAIN_SNOW;TERRAIN_SNOW_HILLS',\n",
    "  'prob': 0.01},\n",
    " 'RESOURCE_COPPER': {'features': np.nan,\n",
    "  'terrains': 'TERRAIN_DESERT_HILLS;TERRAIN_GRASS_HILLS;TERRAIN_PLAINS_HILLS;TERRAIN_SNOW_HILLS;TERRAIN_SNOW;TERRAIN_TUNDRA_HILLS',\n",
    "  'prob': 0.02},\n",
    " 'RESOURCE_CATTLE': {'features': np.nan,\n",
    "  'terrains': 'TERRAIN_GRASS',\n",
    "  'prob': 0.01},\n",
    " 'RESOURCE_COCOA': {'features': 'FEATURE_JUNGLE',\n",
    "  'terrains': np.nan,\n",
    "  'prob': 0.005},\n",
    " 'RESOURCE_GYPSUM': {'features': np.nan,\n",
    "  'terrains': 'TERRAIN_PLAINS;TERRAIN_DESERT_HILLS;TERRAIN_PLAINS_HILLS;TERRAIN_TUNDRA_HILLS;TERRAIN_SNOW_HILLS;TERRAIN_SNOW',\n",
    "  'prob': 0.04},\n",
    " 'RESOURCE_SHEEP': {'features': np.nan,\n",
    "  'terrains': 'TERRAIN_DESERT_HILLS;TERRAIN_GRASS_HILLS;TERRAIN_PLAINS_HILLS;TERRAIN_TUNDRA_HILLS',\n",
    "  'prob': 0.02},\n",
    " 'RESOURCE_CRABS': {'features': np.nan,\n",
    "  'terrains': 'TERRAIN_COAST',\n",
    "  'prob': 0.01},\n",
    " 'RESOURCE_PEARLS': {'features': np.nan,\n",
    "  'terrains': 'TERRAIN_COAST',\n",
    "  'prob': 0.01},\n",
    " 'RESOURCE_WHALES': {'features': np.nan,\n",
    "  'terrains': 'TERRAIN_COAST',\n",
    "  'prob': 0.002},\n",
    " 'RESOURCE_FISH': {'features': 'FEATURE_REEF',\n",
    "  'terrains': 'TERRAIN_COAST',\n",
    "  'prob': 0.01},\n",
    " 'RESOURCE_TURTLES': {'features': 'FEATURE_REEF',\n",
    "  'terrains': np.nan,\n",
    "  'prob': 0.003},\n",
    " 'RESOURCE_DEER': {'features': 'FEATURE_FOREST',\n",
    "  'terrains': 'TERRAIN_TUNDRA;TERRAIN_TUNDRA_HILLS',\n",
    "  'prob': 0.01},\n",
    " 'RESOURCE_FURS': {'features': 'FEATURE_FOREST',\n",
    "  'terrains': 'TERRAIN_TUNDRA;TERRAIN_SNOW_HILLS;TERRAIN_SNOW',\n",
    "  'prob': 0.01},\n",
    " 'RESOURCE_STONE': {'features': np.nan,\n",
    "  'terrains': 'TERRAIN_GRASS;TERRAIN_GRASS_HILLS',\n",
    "  'prob': 0.005}, \n",
    " 'RESOURCE_DYES': {'features': 'FEATURE_JUNGLE;FEATURE_FOREST',\n",
    "  'terrains': np.nan,\n",
    "  'prob': 0.005},}\n",
    "\n",
    "#some resources are assigned randomly\n",
    "random_resources=['RESOURCE_DEER',\n",
    " 'RESOURCE_FISH',\n",
    " 'RESOURCE_FURS', #assume arctic fox instead of red fox\n",
    " 'RESOURCE_PEARLS',\n",
    " 'RESOURCE_TURTLES',\n",
    " 'RESOURCE_WHALES',\n",
    "'RESOURCE_CRABS',\n",
    " 'RESOURCE_STONE','RESOURCE_DYES']"
   ]
  },
  {
   "cell_type": "code",
   "execution_count": 10,
   "metadata": {},
   "outputs": [],
   "source": [
    "#list of all continents in game\n",
    "continents=[ 'CONTINENT_AFRICA',\n",
    " 'CONTINENT_AMASIA', #a possible future supercontinent which could be formed by the merger of Asia and North America\n",
    " 'CONTINENT_AMERICA',\n",
    " 'CONTINENT_ANTARCTICA',\n",
    " 'CONTINENT_ARCTICA',#an ancient continent consisted of the Canadian and Siberian shields, and is now roughly situated in the Arctic around the current North Pole\n",
    " 'CONTINENT_ASIA',\n",
    " 'CONTINENT_ASIAMERICA',#a supercontinent connecting modern China, Canada and the United States\n",
    " 'CONTINENT_ATLANTICA',#an ancient continent was composed of what is now West Africa, Congo, and Brazil.\n",
    " 'CONTINENT_ATLANTIS',#a fictional island in Plato's works, where it represents the antagonist naval power that besieges \"Ancient Athens\", the pseudo-historic embodiment of Plato's ideal state\n",
    " 'CONTINENT_AUSTRALIA',\n",
    " 'CONTINENT_AVALONIA',#was a microcontinent in the Paleozoic era. Crustal fragments of this former microcontinent underlie south-west Great Britain, and the eastern coast of North America\n",
    " 'CONTINENT_AZANIA',#a microcontinent that consisted of parts of modern Madagascar, East Africa, Arabia and south India\n",
    " 'CONTINENT_BALTICA',#an early-Palaeozoic continent that now includes the East European craton of northwestern Eurasia\n",
    " 'CONTINENT_CIMMERIA',#was an ancient microcontinent consisted of parts of Turkey, Iran, Afghanistan, Tibet, Indochina and Malaya.\n",
    " 'CONTINENT_COLUMBIA',#was one of Earth's ancient supercontinents.all modern continents were \"mixed\" in it\n",
    " 'CONTINENT_CONGO_CRATON',#covered by the Palaeozoic-to-recent Congo Basin, is an ancient Precambrian craton that with four others (the Kaapvaal, Zimbabwe, Tanzania, and West African Cratons)\n",
    " 'CONTINENT_EURAMERICA',#was a minor supercontinent, which united Canada, Scandinavia, Europe and part of Russia\n",
    " 'CONTINENT_EUROPE',\n",
    " 'CONTINENT_GONDWANA',#was a supercontinent consisting of modern Australia, Antarctica, Africa, South America, and the Indian subcontinent.\n",
    " 'CONTINENT_KALAHARIA',#a craton, an old and stable part of the continental lithosphere that occupies a large portion of South Africa and consists of the Kaapvaal, the Zimbabwe Craton\n",
    " 'CONTINENT_KAZAKHSTANIA',#it comprises most of Kazakhstan\n",
    " 'CONTINENT_KERNORLAND',#???\n",
    " 'CONTINENT_KUMARI_KANDAM',# hypothetical lost continent with an ancient Tamil civilization, located south of present-day India, in the Indian Ocean.\n",
    " 'CONTINENT_LAURASIA',#northernmost of two supercontinents. consist of the land masses which make up today's continents of the Northern Hemisphere\n",
    " 'CONTINENT_LAURENTIA',#A large continental craton that forms the core of modern North America east of the Rocky Mountains\n",
    " 'CONTINENT_LEMURIA',#hypothetical \"lost land\" variously located in the Indian and Pacific Oceans\n",
    " 'CONTINENT_MU',# hypothetical lost continent that several ancient civilizations, such as those of Egypt and Mesoamerica, were created by refugees from Mu—located in the Indian Ocean\n",
    " 'CONTINENT_NENA',#an ancient minor supercontinent that consisted of the cratons of Arctica, Baltica, and East Antarctica.\n",
    " 'CONTINENT_NORTH_AMERICA',\n",
    " 'CONTINENT_NOVOPANGAEA',# a possible future supercontinent assumes closure of the Pacific,[1] docking of Australia with eastern Asia, and northward motion of Antarctica.\n",
    " 'CONTINENT_NUNA',#was one of Earth's ancient supercontinents.all modern continents were \"mixed\" in it\n",
    " 'CONTINENT_OCEANIA',\n",
    " 'CONTINENT_PANGAEA',#was one of Earth's ancient supercontinents.all modern continents were \"mixed\" in it\n",
    " 'CONTINENT_PANGAEA_ULTIMA',#a possible future supercontinent the interior of Pangaea Proxima would probably become a semi-arid desert prone to extreme temperatures\n",
    " 'CONTINENT_PANNOTIA',#a relatively short-lived Neoproterozoic supercontinent including Africa,South America, Arabia, India,Antarctica, and Australia\n",
    " 'CONTINENT_RODINIA',#a hypothetical supercontinent, a continent which contained most or all of Earth's landmass\n",
    " 'CONTINENT_SIBERIA',# an extremely ancient craton located in the heart of Siberia\n",
    " 'CONTINENT_SOUTH_AMERICA',\n",
    " 'CONTINENT_TERRA_AUSTRALIS',#A large landmass thought by ancient scholars to exist in the far south of the planet to \"balance\" the world\n",
    " 'CONTINENT_UR',#A hypothetical first continent in Earth's history probably smaller than present-day Australia\n",
    " 'CONTINENT_VAALBARA',#theorized first supercontinent, consisted of the eastern South African Kaapvaal craton joined with the Pilbara craton in northwest Western Australia\n",
    " 'CONTINENT_VENDIAN',#???\n",
    " 'CONTINENT_ZEALANDIA']#A section of continental crust located at modern day New Zealand "
   ]
  },
  {
   "cell_type": "markdown",
   "metadata": {},
   "source": [
    "### functions"
   ]
  },
  {
   "cell_type": "code",
   "execution_count": 11,
   "metadata": {},
   "outputs": [],
   "source": [
    "#filter natural wonders/true start locations\n",
    "#based upon their coordinates on earth map\n",
    "def filter_coordinates(basemapfile,input_data,\n",
    "                       direction='larger'):\n",
    "\n",
    "    #get boundary\n",
    "    bndlon=basemapfile.boundarylons.copy()\n",
    "    bndlat=basemapfile.boundarylats.copy()\n",
    "\n",
    "    #basemap longitude is weird \n",
    "    #it does not follow [-180,180]\n",
    "    bndlon[bndlon<-180]=bndlon[bndlon<-180]+360\n",
    "    bndlon[bndlon>180]=bndlon[bndlon>180]-360\n",
    "\n",
    "    #get available data points within boundary\n",
    "    x_available=input_data[input_data[\n",
    "        'longitude']<=bndlon.max()][\n",
    "        input_data['longitude']>=bndlon.min()][input_data[\n",
    "        'latitude']<=bndlat.max()][\n",
    "        input_data['latitude']>=bndlat.min()].copy()\n",
    "        \n",
    "    return x_available"
   ]
  },
  {
   "cell_type": "code",
   "execution_count": 12,
   "metadata": {},
   "outputs": [],
   "source": [
    "#convert hex to rgb\n",
    "def hex_to_rgb(hex):\n",
    "  \n",
    "    rgb=[]\n",
    "    for i in (0,2,4):\n",
    "        decimal = int(hex[i:i+2],16)\n",
    "        rgb.append(decimal)\n",
    "        \n",
    "    return tuple(rgb)"
   ]
  },
  {
   "cell_type": "code",
   "execution_count": 13,
   "metadata": {},
   "outputs": [],
   "source": [
    "#convert rgb to hex\n",
    "def rgb_to_hex(rgb):\n",
    "    return '#'+'%02x%02x%02x' % rgb"
   ]
  },
  {
   "cell_type": "code",
   "execution_count": 14,
   "metadata": {},
   "outputs": [],
   "source": [
    "#assign color to fixed centroid\n",
    "#based upon euclidean distance\n",
    "def cluster_predict(img,color2terrain):\n",
    "    \n",
    "    #get dimension\n",
    "    maph=img.shape[0]\n",
    "    mapw=img.shape[1]\n",
    "    \n",
    "    #vertical flip\n",
    "    img=np.flip(img,axis=0)\n",
    "    \n",
    "    #get hex color\n",
    "    centroid_colors=[hex_to_rgb(i[1:]) for i in color2terrain.keys()]\n",
    "    \n",
    "    #repeat centroid colors\n",
    "    repeated_arr=[np.repeat(np.array(i).reshape(1,-1),mapw*maph,axis=0) for i in centroid_colors]\n",
    "    \n",
    "    #compute sum of squared error\n",
    "    sse_arr=[np.square(img.reshape(mapw*maph,3)[:,[2,1,0]]-i).sum(axis=1) for i in repeated_arr]\n",
    "    \n",
    "    #take the smallest sse as assigned color\n",
    "    assignment=np.argmin(np.c_[sse_arr],axis=0)\n",
    "    \n",
    "    return assignment"
   ]
  },
  {
   "cell_type": "code",
   "execution_count": 15,
   "metadata": {},
   "outputs": [],
   "source": [
    "#every assignment should follow the rule of land sea mask\n",
    "#if it is land in lsmask\n",
    "#any coast/ocean tile in assignment\n",
    "#would be revert to the default land type in lsmask\n",
    "#the same applies to coast/ocean in lsmask\n",
    "def check_land_sea(assignment,lsmask,color2terrain):\n",
    "\n",
    "    #avoid index starts at zero\n",
    "    assignment+=1\n",
    "\n",
    "    #make all coast/ocean tile negative\n",
    "    idx4neg=[ind for ind,val in enumerate(assignment) if list(color2terrain.values())[val-1] in ['TERRAIN_COAST','TERRAIN_OCEAN']]\n",
    "    assignment[idx4neg]=-assignment[idx4neg]\n",
    "\n",
    "    #convert 01 binary to -11 binary\n",
    "    lsmask[lsmask==1]=-1\n",
    "    lsmask[lsmask==0]=1\n",
    "\n",
    "    #multiplication\n",
    "    #any negative number indicates mismatch of land/sea type\n",
    "    result=np.multiply(assignment,lsmask)\n",
    "\n",
    "    #revert lsmask back to 01 binary\n",
    "    #plus one to be consistent with result\n",
    "    lsmask[lsmask==1]=0\n",
    "    lsmask[lsmask==-1]=1\n",
    "    lsmask+=1\n",
    "\n",
    "    #revert mismatch to default land/sea type\n",
    "    result[result<0]=lsmask[result<0]\n",
    "\n",
    "    #minus one to revert index back to zero\n",
    "    result-=1\n",
    "    \n",
    "    return result"
   ]
  },
  {
   "cell_type": "code",
   "execution_count": 16,
   "metadata": {
    "scrolled": true
   },
   "outputs": [],
   "source": [
    "#convert red dots on map to ids\n",
    "def get_target_id(img,targetmask,group=False):\n",
    "    \n",
    "    maph=img.shape[0];mapw=img.shape[1]\n",
    "\n",
    "    #add data point into targetmask\n",
    "    targetmask.update({'#FF0000':'target'})\n",
    "\n",
    "    #draw the border between land and sea\n",
    "    #rotate 90 to fit civmap\n",
    "    #adjust to orientation\n",
    "    xmask=cluster_predict(cv2.rotate(img,\n",
    "                    cv2.cv2.ROTATE_90_CLOCKWISE),\n",
    "                              targetmask)\n",
    "    \n",
    "    #reshape and get coordinates of targets\n",
    "    xmask=xmask.reshape(mapw,maph,)\n",
    "    \n",
    "    #concat\n",
    "    X=np.c_[np.where(xmask==2)]\n",
    "\n",
    "    #id of targets come from centroids\n",
    "    if not group:\n",
    "        idx2d=np.ceil(X.mean(axis=0))\n",
    "        export=idx2d[1]+idx2d[0]*xmask.shape[1]\n",
    "\n",
    "        return export\n",
    "    else:\n",
    "        export=X[:,1]+X[:,0]*xmask.shape[1]\n",
    "\n",
    "        return export"
   ]
  },
  {
   "cell_type": "code",
   "execution_count": 17,
   "metadata": {
    "scrolled": true
   },
   "outputs": [],
   "source": [
    "#iterate through targets to get their id on civmap\n",
    "def itr_targets(lon_centre,lat_centre,\n",
    "                maph,mapw,scaler,x_available,\n",
    "                masque,name_col='code',\n",
    "                projection_type='aeqd',\n",
    "                lcolor='k',ocolor='w'):\n",
    "\n",
    "    dict_target={}\n",
    "    for i in x_available.index:\n",
    "        \n",
    "        #create map\n",
    "        m=Basemap(projection=projection_type,\n",
    "                      lon_0=lon_centre,\n",
    "                      lat_0=lat_centre,\n",
    "                      width=maph*scaler,\n",
    "                      height=mapw*scaler,)\n",
    "\n",
    "        #show land and sea in different colors\n",
    "        m.drawlsmask(land_color=lcolor,\n",
    "            ocean_color=ocolor,)\n",
    "\n",
    "        #convert coordinates and plot targets\n",
    "        x,y=m(x_available['longitude'][i],\n",
    "                  x_available['latitude'][i],\n",
    "                 )\n",
    "        plt.scatter(x,y,s=20,c='red')\n",
    "\n",
    "        #save image\n",
    "        plt.savefig('target.png',bbox_inches='tight',\n",
    "                    pad_inches=-.05)\n",
    "        plt.clf()\n",
    "        \n",
    "        #down scale image\n",
    "        img=cv2.imread('target.png')\n",
    "        img=cv2.resize(img,dsize=(maph,mapw,),\n",
    "                   interpolation=cv2.INTER_LANCZOS4)\n",
    "        \n",
    "        #get target id\n",
    "        if pd.isna(get_target_id(img,masque)):\n",
    "            continue        \n",
    "        target_id=int(get_target_id(img,masque))\n",
    "        dict_target[target_id]=x_available[\n",
    "            name_col].loc[i]\n",
    "        \n",
    "    return dict_target"
   ]
  },
  {
   "cell_type": "code",
   "execution_count": 18,
   "metadata": {},
   "outputs": [],
   "source": [
    "#get available continents\n",
    "#based on their intersections with the map\n",
    "def get_available_continent(bndlon,bndlat,\n",
    "                            lon_centre,lat_centre,\n",
    "                            input_dict):\n",
    "\n",
    "    #initialize\n",
    "    continent_available=[]\n",
    "    \n",
    "    #include centre coordinates to get map boundary\n",
    "    set_blon=set(range(min(int(bndlon.min()),lon_centre),\n",
    "                       max(int(bndlon.max()),lon_centre)))\n",
    "    set_blat=set(range(min(int(bndlat.min()),lat_centre),\n",
    "                       max(int(bndlat.max()),lat_centre)))\n",
    "    \n",
    "    for i in input_dict:\n",
    "        \n",
    "        #get continent boundary\n",
    "        set_clon=set(range(min(input_dict[i]['lon']),\n",
    "                       max(input_dict[i]['lon'])))\n",
    "        set_clat=set(range(min(input_dict[i]['lat']),\n",
    "                       max(input_dict[i]['lat'])))\n",
    "\n",
    "        #if both lat and lon range of the continent\n",
    "        #overlap with the boundary of the map\n",
    "        #append the continent to the output\n",
    "        if len(set_blon.intersection(set_clon))>0 and \\\n",
    "        len(set_blat.intersection(set_clat))>0:\n",
    "            continent_available.append(i)\n",
    "            \n",
    "    return continent_available"
   ]
  },
  {
   "cell_type": "code",
   "execution_count": 19,
   "metadata": {},
   "outputs": [],
   "source": [
    "#create polygon shape continent\n",
    "def plot_continent(m,lats,lons,\n",
    "                  stepsize=10):\n",
    "    \n",
    "    #create polygon instead of rectangle\n",
    "    arr_lats=[];arr_lons=[]\n",
    "    for pair1,pair2 in [(0,1),(1,2),(2,3),(3,0)]:\n",
    "        if lats[pair1]!=lats[pair2]:\n",
    "            arr_lats.append(np.arange(lats[pair1],lats[pair2],\n",
    "                      (lats[pair2]-lats[pair1])/stepsize))\n",
    "        else:\n",
    "            arr_lats.append(np.repeat(np.array(\n",
    "                [lats[pair1]]),stepsize))\n",
    "\n",
    "        if lons[pair1]!=lons[pair2]:\n",
    "            arr_lons.append(np.arange(lons[pair1],lons[pair2],\n",
    "                      (lons[pair2]-lons[pair1])/stepsize))\n",
    "        else:\n",
    "            arr_lons.append(np.repeat(np.array(\n",
    "                [lons[pair1]]),stepsize))\n",
    "\n",
    "    #concatenate\n",
    "    real_lons=np.r_[arr_lons[0],arr_lons[1],\n",
    "                    arr_lons[2],arr_lons[3]]\n",
    "    real_lats=np.r_[arr_lats[0],arr_lats[1],\n",
    "                    arr_lats[2],arr_lats[3]]\n",
    "\n",
    "    #plot\n",
    "    x,y=m(real_lons,real_lats)\n",
    "    xy=zip(x,y)\n",
    "    poly=Polygon(list(xy),\n",
    "                 facecolor='#FF0000')\n",
    "    plt.gca().add_patch(poly)"
   ]
  },
  {
   "cell_type": "code",
   "execution_count": 20,
   "metadata": {},
   "outputs": [],
   "source": [
    "#iterate through multiple targets regardless of order\n",
    "#use gmm to specify the number of targets\n",
    "#more details of gmm can be found in the link below\n",
    "#https://github.com/je-suis-tm/machine-learning/blob/master/gaussian%20mixture%20model.ipynb\n",
    "def itr_multi(subset,lon_centre,lat_centre,\n",
    "                maph,mapw,scaler,masque,designated_num,\n",
    "                projection_type='aeqd',\n",
    "                lcolor='k',ocolor='w'):\n",
    "\n",
    "    #map\n",
    "    m=Basemap(projection=projection_type,\n",
    "                  lon_0=lon_centre,\n",
    "                  lat_0=lat_centre,\n",
    "                  width=maph*scaler,\n",
    "                  height=mapw*scaler,)\n",
    "\n",
    "    #show land and sea in different colors\n",
    "    m.drawlsmask(land_color=lcolor,\n",
    "        ocean_color=ocolor,)\n",
    "\n",
    "    #scatter plot\n",
    "    x,y=m(subset['longitude'],\n",
    "         subset['latitude'])\n",
    "    plt.scatter(x,y,s=subset['taille'],c='#ff0000')\n",
    "\n",
    "    #save image\n",
    "    plt.savefig('resource.png',bbox_inches='tight',\n",
    "                        pad_inches=-.05)\n",
    "    plt.clf()\n",
    "\n",
    "    #down scale image\n",
    "    img=cv2.imread('resource.png')\n",
    "    img=cv2.resize(img,dsize=(maph,mapw,),\n",
    "                       interpolation=cv2.INTER_LANCZOS4)\n",
    "\n",
    "    #get target id\n",
    "    target_id=get_target_id(img,masque,group=True)\n",
    "\n",
    "    #run gmm when number of targets > designated number\n",
    "    if len(target_id)>designated_num:\n",
    "        \n",
    "        #revert to 2d coordinates\n",
    "        X=np.c_[target_id//mapw,target_id%mapw]\n",
    "\n",
    "        #gmm to get exact number of clusters\n",
    "        clf=sklearn.mixture.GaussianMixture(\n",
    "            n_components=designated_num)\n",
    "        Y=clf.fit_predict(X)\n",
    "\n",
    "        #take median coordinates\n",
    "        coordinates=[np.median(X[Y==i],\n",
    "                        axis=0) for i in np.unique(Y)]\n",
    "\n",
    "        #get id on civmap\n",
    "        return np.ceil(np.array(coordinates)[:,\n",
    "                0]*mapw+np.array(\n",
    "            coordinates)[:,1]).astype(int)\n",
    "\n",
    "    else:    \n",
    "        return target_id"
   ]
  },
  {
   "cell_type": "code",
   "execution_count": 21,
   "metadata": {},
   "outputs": [],
   "source": [
    "#randomly assign feature to suitable terrain\n",
    "def random_features(plotfeatures,subset,\n",
    "                    feature_name,feature_prob,\n",
    "                    available_terrains,):\n",
    "\n",
    "    #get all suitable terrains\n",
    "    idx=subset[\n",
    "        subset['TerrainType'].isin(available_terrains\n",
    "        )].index\n",
    "    \n",
    "    #randomly select suitable terrains\n",
    "    lucky_ids=np.random.choice(\n",
    "        [i for i in idx if i not in plotfeatures['ID']],\n",
    "        int(len(idx)*feature_prob),\n",
    "        replace=False)\n",
    "    \n",
    "    #assign feature to a random place\n",
    "    extra=pd.DataFrame(columns=plotfeatures.columns)\n",
    "    extra['ID']=lucky_ids\n",
    "    extra['FeatureType']=feature_name\n",
    "    plotfeatures=plotfeatures.append(extra)\n",
    "    \n",
    "    return plotfeatures"
   ]
  },
  {
   "cell_type": "code",
   "execution_count": 22,
   "metadata": {},
   "outputs": [],
   "source": [
    "#the river flow is the most complicated design in civ6 map\n",
    "#this needs to be explained in graphics\n",
    "#in short,the water flow starts from upper right node of the hexagon\n",
    "#ends in upper right node of the targeted hexagon\n",
    "#sometimes the flow may not work if hexagon is near the map border!\n",
    "def waterflow_design(neighbor_graph,current_vertex,adj,\n",
    "                    flowW,flowNW,flowNE):\n",
    "    if neighbor_graph[current_vertex][adj]=='NW':\n",
    "        flowW[current_vertex]=0\n",
    "        try:\n",
    "            ind=list(neighbor_graph[current_vertex].values()).index('W')\n",
    "            neighbor_w=list(neighbor_graph[current_vertex].keys())[ind]\n",
    "            flowNE[neighbor_w]=5\n",
    "        except ValueError:\n",
    "            pass    \n",
    "    if neighbor_graph[current_vertex][adj]=='NE':\n",
    "        flowW[current_vertex]=0\n",
    "        flowNW[current_vertex]=1\n",
    "    if neighbor_graph[current_vertex][adj]=='E':    \n",
    "        try:\n",
    "            ind=list(neighbor_graph[current_vertex].values()).index('SW')\n",
    "            neighbor_sw=list(neighbor_graph[current_vertex].keys())[ind]\n",
    "            flowNE[neighbor_sw]=2\n",
    "        except ValueError:\n",
    "            pass    \n",
    "        try:\n",
    "            ind=list(neighbor_graph[current_vertex].values()).index('SE')\n",
    "            neighbor_se=list(neighbor_graph[current_vertex].keys())[ind]\n",
    "            flowNW[neighbor_se]=1\n",
    "        except ValueError:\n",
    "            pass\n",
    "    if neighbor_graph[current_vertex][adj]=='SE':    \n",
    "        try:\n",
    "            ind=list(neighbor_graph[current_vertex].values()).index('SW')\n",
    "            neighbor_sw=list(neighbor_graph[current_vertex].keys())[ind]\n",
    "            flowNE[neighbor_sw]=2\n",
    "        except ValueError:\n",
    "            pass    \n",
    "        flowW[adj]=3\n",
    "    if neighbor_graph[current_vertex][adj]=='SW':\n",
    "        flowW[adj]=3\n",
    "        flowNW[adj]=4\n",
    "    if neighbor_graph[current_vertex][adj]=='W': \n",
    "        flowW[current_vertex]=0\n",
    "        flowW[adj]=3\n",
    "        flowNW[adj]=4\n",
    "        flowNE[adj]=5\n",
    "        \n",
    "    return flowW,flowNW,flowNE"
   ]
  },
  {
   "cell_type": "code",
   "execution_count": 23,
   "metadata": {},
   "outputs": [],
   "source": [
    "#rotate id for horizontal map\n",
    "def horizontal_adjustment(input_table,maph,maw,id_col):\n",
    "    \n",
    "    #rotate counterclockwise\n",
    "    input_table[id_col]=input_table[id_col].apply(\n",
    "        lambda x:maph-1-x//mapw+(x%mapw)*maph)\n",
    "    input_table=input_table.sort_values([id_col])\n",
    "    input_table.reset_index(drop=True,inplace=True)\n",
    "    input_table[id_col]=input_table[id_col].astype(int)\n",
    "    \n",
    "    return input_table"
   ]
  },
  {
   "cell_type": "markdown",
   "metadata": {},
   "source": [
    "### load data"
   ]
  },
  {
   "cell_type": "code",
   "execution_count": 24,
   "metadata": {
    "scrolled": true
   },
   "outputs": [],
   "source": [
    "nature=pd.read_csv('civ nature.csv')\n",
    "\n",
    "feature=pd.read_csv('civ feature.csv')\n",
    "\n",
    "tsl=pd.read_csv('civ tsl.csv')\n",
    "\n",
    "resource=pd.read_csv('civ resource.csv')\n",
    "\n",
    "falaise=pd.read_csv('civ cliff.csv')"
   ]
  },
  {
   "cell_type": "markdown",
   "metadata": {},
   "source": [
    "### read map"
   ]
  },
  {
   "cell_type": "code",
   "execution_count": 25,
   "metadata": {},
   "outputs": [
    {
     "name": "stdout",
     "output_type": "stream",
     "text": [
      "[('MetaData',), ('Map',), ('MapAttributes',), ('Plots',), ('PlotAttributes',), ('PlotRivers',), ('PlotCliffs',), ('PlotResources',), ('PlotFeatures',), ('PlotImprovements',), ('PlotRoutes',), ('PlotOwners',), ('RevealedPlots',), ('StartPositions',), ('Units',), ('UnitAttributes',), ('Cities',), ('CityAttributes',), ('Districts',), ('DistrictAttributes',), ('Buildings',), ('Players',), ('PlayerAttributes',), ('ModProperties',), ('ModComponents',), ('ModComponent_Properties',), ('ModComponent_Items',), ('ModSettings',), ('ModSettings_Properties',), ('ModSettings_Items',), ('ModText',), ('ModDependencies',), ('GameConfig',), ('NamedRiverPlot',), ('NamedRiver',)]\n"
     ]
    }
   ],
   "source": [
    "#connect to sql database\n",
    "con=sqlite3.connect(\"civ.db\")\n",
    "\n",
    "#show all tables\n",
    "cursor=con.cursor()\n",
    "cursor.execute(\"SELECT name FROM sqlite_master WHERE type='table';\")\n",
    "tablelists=cursor.fetchall()\n",
    "print(tablelists)"
   ]
  },
  {
   "cell_type": "code",
   "execution_count": 26,
   "metadata": {
    "scrolled": true
   },
   "outputs": [],
   "source": [
    "#get map size\n",
    "mapdata=pd.read_sql('SELECT * FROM Map',con)\n",
    "mapw=mapdata['Width'].iloc[0]\n",
    "maph=mapdata['Height'].iloc[0]"
   ]
  },
  {
   "cell_type": "code",
   "execution_count": 27,
   "metadata": {},
   "outputs": [],
   "source": [
    "#change map name\n",
    "modtext=pd.read_sql('SELECT * FROM ModText',con)\n",
    "names=modtext['Value'].tolist()\n",
    "names[0]='mideast';names[2]='mideast'\n",
    "modtext['Value']=names"
   ]
  },
  {
   "cell_type": "code",
   "execution_count": 28,
   "metadata": {},
   "outputs": [],
   "source": [
    "#get map data\n",
    "mapplots=pd.read_sql('SELECT * FROM Plots',con)"
   ]
  },
  {
   "cell_type": "code",
   "execution_count": 29,
   "metadata": {},
   "outputs": [],
   "source": [
    "#create graph adt to find neighbors of any vertex\n",
    "#check the link below for more details on graph adt\n",
    "# https://github.com/je-suis-tm/graph-theory\n",
    "#assume not world map\n",
    "neighbor_graph=dict(zip(range(maph*mapw),[{} for _ in range(maph*mapw)]))\n",
    "for vertex in range(maph*mapw):\n",
    "    left=vertex-1\n",
    "    right=vertex+1\n",
    "    \n",
    "    #hexagon rules\n",
    "    if vertex//mapw%2==0:\n",
    "        topleft=vertex+mapw-1\n",
    "        topright=vertex+mapw\n",
    "        bottomleft=vertex-mapw-1\n",
    "        bottomright=vertex-mapw\n",
    "    else:\n",
    "        topleft=vertex+mapw\n",
    "        topright=vertex+mapw+1\n",
    "        bottomleft=vertex-mapw\n",
    "        bottomright=vertex-mapw+1\n",
    "    \n",
    "    #find the border and emit certain neighbors\n",
    "    #in world map mode, this could get really complicated\n",
    "    if vertex%mapw==0:\n",
    "        left=None\n",
    "        if vertex//mapw%2==0:\n",
    "            topleft=None\n",
    "            bottomleft=None\n",
    "    if vertex%mapw==mapw-1:\n",
    "        right=None\n",
    "        if vertex//mapw%2!=0:\n",
    "            topright=None\n",
    "            bottomright=None\n",
    "    if vertex//mapw==0:\n",
    "        bottomleft=None\n",
    "        bottomright=None\n",
    "    if vertex//mapw==maph-1:\n",
    "        topleft=None\n",
    "        topright=None  \n",
    "    \n",
    "    #skip none\n",
    "    if left:\n",
    "        neighbor_graph[vertex][left]='E'\n",
    "    if right:\n",
    "        neighbor_graph[vertex][right]='W'\n",
    "    if topleft:\n",
    "        neighbor_graph[vertex][topleft]='SE'\n",
    "    if topright:\n",
    "        neighbor_graph[vertex][topright]='SW'\n",
    "    if bottomleft:\n",
    "        neighbor_graph[vertex][bottomleft]='NE'\n",
    "    if bottomright:\n",
    "        neighbor_graph[vertex][bottomright]='NW'"
   ]
  },
  {
   "cell_type": "code",
   "execution_count": 30,
   "metadata": {},
   "outputs": [],
   "source": [
    "#create neighbor graph for horizontal map before rotation\n",
    "if horizontal:\n",
    "    h_neighbor_graph=dict(zip(range(maph*mapw),\n",
    "                              [{} for _ in range(maph*mapw)]))\n",
    "    for i in neighbor_graph:\n",
    "        new_vertex=i//maph+(maph-1-i%maph)*mapw\n",
    "        h_neighbor_graph[new_vertex]={}\n",
    "        for j in neighbor_graph[i]:\n",
    "            new_edge=j//maph+(maph-1-j%maph)*mapw\n",
    "            h_neighbor_graph[new_vertex][new_edge]=neighbor_graph[i][j]"
   ]
  },
  {
   "cell_type": "code",
   "execution_count": 31,
   "metadata": {
    "scrolled": false
   },
   "outputs": [
    {
     "data": {
      "image/png": "[encoded data removed]",
      "text/plain": [
       "<Figure size 763.2x475.2 with 1 Axes>"
      ]
     },
     "metadata": {
      "needs_background": "light"
     },
     "output_type": "display_data"
    }
   ],
   "source": [
    "#viz existing map\n",
    "map_colors=mapplots['TerrainType'].apply(\n",
    "    lambda x:terrain2color[x]).tolist()\n",
    "ax=plt.figure(figsize=(\n",
    "    mapw/10,maph/10)).add_subplot(111)\n",
    "plt.scatter([j for i in range(\n",
    "    maph) for j in range(mapw)],\n",
    "    [i for i in range(maph) for j in range(mapw)],\n",
    "    s=20,marker='h',\n",
    "    c=map_colors)\n",
    "plt.axis('off')\n",
    "plt.show()"
   ]
  },
  {
   "cell_type": "markdown",
   "metadata": {},
   "source": [
    "### create map"
   ]
  },
  {
   "cell_type": "code",
   "execution_count": 32,
   "metadata": {},
   "outputs": [
    {
     "data": {
      "text/plain": [
       "<Figure size 432x288 with 0 Axes>"
      ]
     },
     "metadata": {},
     "output_type": "display_data"
    }
   ],
   "source": [
    "#create map\n",
    "if horizontal:\n",
    "    mapw,maph=maph,mapw\n",
    "m=Basemap(projection=projection_type,\n",
    "              lon_0=lon_centre,\n",
    "              lat_0=lat_centre,\n",
    "              width=maph*scaler,\n",
    "              height=mapw*scaler,)\n",
    "\n",
    "#show land and sea in different colors\n",
    "m.drawlsmask(land_color='k',\n",
    "    ocean_color='w',)\n",
    "\n",
    "#save image\n",
    "plt.savefig('mask.png',bbox_inches='tight',\n",
    "            pad_inches=-.05)\n",
    "plt.clf()"
   ]
  },
  {
   "cell_type": "code",
   "execution_count": 33,
   "metadata": {},
   "outputs": [
    {
     "data": {
      "text/plain": [
       "<Figure size 432x288 with 0 Axes>"
      ]
     },
     "metadata": {},
     "output_type": "display_data"
    }
   ],
   "source": [
    "#create map\n",
    "m=Basemap(projection=projection_type,\n",
    "              lon_0=lon_centre,\n",
    "              lat_0=lat_centre,\n",
    "              width=maph*scaler,\n",
    "              height=mapw*scaler,)\n",
    "\n",
    "#blue marble is my fav\n",
    "#it is similar to google earth\n",
    "#m.shadedrelief()\n",
    "#the problem with shaded relief is\n",
    "#it is harder to distinguish different terrains for computers\n",
    "m.bluemarble()\n",
    "\n",
    "#you can draw country border to assist you in true start location\n",
    "#m.drawcountries()\n",
    "\n",
    "plt.savefig('plot.png',bbox_inches='tight',\n",
    "            pad_inches=-.05)\n",
    "plt.clf()"
   ]
  },
  {
   "cell_type": "code",
   "execution_count": 34,
   "metadata": {},
   "outputs": [
    {
     "name": "stderr",
     "output_type": "stream",
     "text": [
      "Clipping input data to the valid range for imshow with RGB data ([0..1] for floats or [0..255] for integers).\n"
     ]
    },
    {
     "data": {
      "text/plain": [
       "<Figure size 432x288 with 0 Axes>"
      ]
     },
     "metadata": {},
     "output_type": "display_data"
    }
   ],
   "source": [
    "#create hill map\n",
    "m=Basemap(projection=projection_type,\n",
    "              lon_0=lon_centre,\n",
    "              lat_0=lat_centre,\n",
    "              width=maph*scaler,\n",
    "              height=mapw*scaler,)\n",
    "\n",
    "#brown represents mountains instead of desert in etopo\n",
    "m.etopo()\n",
    "\n",
    "plt.savefig('hills.png',bbox_inches='tight',\n",
    "            pad_inches=-.05)\n",
    "plt.clf()"
   ]
  },
  {
   "cell_type": "code",
   "execution_count": 35,
   "metadata": {
    "scrolled": false
   },
   "outputs": [
    {
     "data": {
      "text/plain": [
       "<Figure size 432x288 with 0 Axes>"
      ]
     },
     "metadata": {},
     "output_type": "display_data"
    }
   ],
   "source": [
    "#create river map\n",
    "m=Basemap(projection=projection_type,\n",
    "              lon_0=lon_centre,\n",
    "              lat_0=lat_centre,\n",
    "              width=maph*scaler,\n",
    "              height=mapw*scaler,)\n",
    "\n",
    "m.drawrivers(color='k',linewidth=2,antialiased=True)\n",
    "\n",
    "plt.savefig('rivers.png',bbox_inches='tight',\n",
    "            pad_inches=-.05)\n",
    "plt.clf()"
   ]
  },
  {
   "cell_type": "code",
   "execution_count": 36,
   "metadata": {},
   "outputs": [
    {
     "data": {
      "text/plain": [
       "True"
      ]
     },
     "execution_count": 36,
     "metadata": {},
     "output_type": "execute_result"
    }
   ],
   "source": [
    "#scale down into civmap\n",
    "img=cv2.imread('plot.png')\n",
    "new_img=cv2.resize(img,dsize=(maph,mapw,),\n",
    "           interpolation=cv2.INTER_LANCZOS4)\n",
    "cv2.imwrite('plot.png',new_img)\n",
    "\n",
    "#scale down into civmap\n",
    "img=cv2.imread('mask.png')\n",
    "new_img=cv2.resize(img,dsize=(maph,mapw,),\n",
    "           interpolation=cv2.INTER_LANCZOS4)\n",
    "cv2.imwrite('mask.png',new_img)\n",
    "\n",
    "#scale down into civmap\n",
    "img=cv2.imread('hills.png')\n",
    "new_img=cv2.resize(img,dsize=(maph,mapw,),\n",
    "           interpolation=cv2.INTER_LANCZOS4)\n",
    "cv2.imwrite('hills.png',new_img)\n",
    "\n",
    "#scale down into civmap\n",
    "img=cv2.imread('rivers.png',0)\n",
    "new_img=cv2.resize(img,dsize=(maph,mapw,),\n",
    "           interpolation=cv2.INTER_LANCZOS4)\n",
    "cv2.imwrite('rivers.png',new_img)"
   ]
  },
  {
   "cell_type": "markdown",
   "metadata": {},
   "source": [
    "### terrains"
   ]
  },
  {
   "cell_type": "code",
   "execution_count": 37,
   "metadata": {},
   "outputs": [],
   "source": [
    "#read image into numpy array\n",
    "img=cv2.imread('mask.png',1)\n",
    "\n",
    "#draw the border between land and sea\n",
    "#rotate 90 to fit civmap\n",
    "lsmask=cluster_predict(cv2.rotate(img,\n",
    "            cv2.cv2.ROTATE_90_CLOCKWISE),masque)\n",
    "\n",
    "#read image into numpy array\n",
    "img=cv2.imread('plot.png',1)\n",
    "\n",
    "#get simplified colors\n",
    "#rotate 90 to fit civmap\n",
    "assignment=cluster_predict(cv2.rotate(img,\n",
    "            cv2.cv2.ROTATE_90_CLOCKWISE),color2terrain)\n",
    "\n",
    "#read image into numpy array\n",
    "img=cv2.imread('hills.png',1)\n",
    "\n",
    "#get mountain regions\n",
    "#rotate 90 to fit civmap\n",
    "hills=cluster_predict(cv2.rotate(img,\n",
    "            cv2.cv2.ROTATE_90_CLOCKWISE),topo_color)\n",
    "\n",
    "#read image into numpy array\n",
    "img=cv2.imread('rivers.png',1)\n",
    "\n",
    "#erode to get river shape\n",
    "#img=cv2.erode(img,np.ones((2,2),'uint8'),iterations=1)\n",
    "\n",
    "#rotate 90 to fit civmap\n",
    "rivers=cluster_predict(cv2.rotate(img,\n",
    "            cv2.cv2.ROTATE_90_CLOCKWISE),masque)"
   ]
  },
  {
   "cell_type": "code",
   "execution_count": 38,
   "metadata": {},
   "outputs": [],
   "source": [
    "#sanity check on land/sea\n",
    "result=check_land_sea(assignment,lsmask,color2terrain)"
   ]
  },
  {
   "cell_type": "code",
   "execution_count": 39,
   "metadata": {},
   "outputs": [],
   "source": [
    "#map color to terrain\n",
    "mapplots['TerrainType']=[list(color2terrain.values())[i] for i in result]\n",
    "\n",
    "#search ocean tiles\n",
    "ocean_tiles=mapplots[mapplots['TerrainType']=='TERRAIN_OCEAN'].index.tolist()\n",
    "\n",
    "#find coast and ocean id\n",
    "coast_id=list(color2terrain.values()).index('TERRAIN_COAST')\n",
    "ocean_id=list(color2terrain.values()).index('TERRAIN_OCEAN')\n",
    "\n",
    "#iterate through all ocean tiles\n",
    "for i in ocean_tiles:\n",
    "\n",
    "    #compute neighbor ids\n",
    "    if not horizontal:\n",
    "        neighbor_ids=list(neighbor_graph[i].keys())\n",
    "    else:        \n",
    "        neighbor_ids=list(h_neighbor_graph[i].keys())\n",
    "\n",
    "    #neighbors of ocean tiles must be ocean/coast tiles\n",
    "    #otherwise switch to coast tiles\n",
    "    if set(result[neighbor_ids]).issubset(set([coast_id,ocean_id])):\n",
    "        pass\n",
    "    else:\n",
    "        result[i]=coast_id"
   ]
  },
  {
   "cell_type": "code",
   "execution_count": 40,
   "metadata": {},
   "outputs": [],
   "source": [
    "#update ocean tile\n",
    "mapplots['TerrainType']=[list(color2terrain.values())[i] for i in result]"
   ]
  },
  {
   "cell_type": "code",
   "execution_count": 41,
   "metadata": {
    "scrolled": true
   },
   "outputs": [
    {
     "name": "stderr",
     "output_type": "stream",
     "text": [
      "C:\\ProgramData\\Anaconda3\\lib\\site-packages\\pandas\\core\\indexing.py:189: SettingWithCopyWarning: \n",
      "A value is trying to be set on a copy of a slice from a DataFrame\n",
      "\n",
      "See the caveats in the documentation: http://pandas.pydata.org/pandas-docs/stable/indexing.html#indexing-view-versus-copy\n",
      "  self._setitem_with_indexer(indexer, value)\n"
     ]
    }
   ],
   "source": [
    "#get non water region\n",
    "non_water_tiles=mapplots[mapplots['TerrainType'].isin(\n",
    "    ['TERRAIN_PLAINS','TERRAIN_GRASS',\n",
    "    'TERRAIN_DESERT','TERRAIN_TUNDRA',\n",
    "    'TERRAIN_SNOW'])].index.tolist()\n",
    "\n",
    "#get mountain region postfix for non water tiles\n",
    "postfix=[list(topo_color.values())[\n",
    "    i] for i in hills[non_water_tiles]]\n",
    "\n",
    "#update mountain region\n",
    "mapplots['TerrainType'].loc[\n",
    "    non_water_tiles]=mapplots['TerrainType'].loc[\n",
    "    non_water_tiles]+postfix"
   ]
  },
  {
   "cell_type": "code",
   "execution_count": 42,
   "metadata": {},
   "outputs": [
    {
     "data": {
      "image/png": "[encoded data removed]",
      "text/plain": [
       "<Figure size 475.2x763.2 with 1 Axes>"
      ]
     },
     "metadata": {
      "needs_background": "light"
     },
     "output_type": "display_data"
    }
   ],
   "source": [
    "#viz new map\n",
    "map_colors=mapplots['TerrainType'].apply(lambda x:terrain2color[x]).tolist()\n",
    "ax=plt.figure(figsize=(mapw/10,maph/10)).add_subplot(111)\n",
    "plt.scatter([j for i in range(maph) for j in range(mapw)],\n",
    "    [i for i in range(maph) for j in range(mapw)],\n",
    "    s=20,marker='h',\n",
    "    c=map_colors)\n",
    "plt.axis('off')\n",
    "plt.show()"
   ]
  },
  {
   "cell_type": "code",
   "execution_count": 43,
   "metadata": {},
   "outputs": [],
   "source": [
    "#initialize continent and impassable\n",
    "mapplots['ContinentType']=''\n",
    "mapplots['IsImpassable']=0"
   ]
  },
  {
   "cell_type": "markdown",
   "metadata": {},
   "source": [
    "### continents"
   ]
  },
  {
   "cell_type": "code",
   "execution_count": 44,
   "metadata": {},
   "outputs": [
    {
     "data": {
      "text/plain": [
       "<Figure size 432x288 with 0 Axes>"
      ]
     },
     "metadata": {},
     "output_type": "display_data"
    }
   ],
   "source": [
    "#get latitude longitude boundary\n",
    "bndlon=m.boundarylons.copy()\n",
    "bndlat=m.boundarylats.copy()\n",
    "\n",
    "#basemap longitude is weird \n",
    "#it does not follow [-180,180]\n",
    "bndlon[bndlon<-180]=bndlon[bndlon<-180]+360\n",
    "bndlon[bndlon>180]=bndlon[bndlon>180]-360\n",
    "\n",
    "#filter available continents\n",
    "continent_available=get_available_continent(\n",
    "                        bndlon,bndlat,\n",
    "                        lon_centre,lat_centre,\n",
    "                        continent_area)\n",
    "\n",
    "#iterate through all available continents\n",
    "dict_cont={}\n",
    "for val in continent_available:\n",
    "    lats=continent_area[val]['lat']\n",
    "    lons=continent_area[val]['lon']\n",
    "\n",
    "    basemapfile=Basemap(projection=projection_type,\n",
    "                  lon_0=lon_centre,\n",
    "                  lat_0=lat_centre,\n",
    "                  width=maph*scaler,\n",
    "                  height=mapw*scaler,)\n",
    "\n",
    "    #draw lsmask\n",
    "    basemapfile.drawlsmask(land_color='w',\n",
    "                           ocean_color='w',)\n",
    "    \n",
    "    #plot polygon shape continent\n",
    "    plot_continent(basemapfile,lats,lons)\n",
    "\n",
    "    #save image\n",
    "    plt.savefig('continent.png',bbox_inches='tight',\n",
    "                    pad_inches=-.05)\n",
    "    plt.clf()\n",
    "        \n",
    "    #down scale image\n",
    "    img=cv2.imread('continent.png')\n",
    "    img=cv2.resize(img,dsize=(maph,mapw,),\n",
    "                   interpolation=cv2.INTER_LANCZOS4)\n",
    "\n",
    "    #get target id\n",
    "    target_id=get_target_id(img,masque,group=True)\n",
    "    dict_cont[val]=target_id"
   ]
  },
  {
   "cell_type": "code",
   "execution_count": 45,
   "metadata": {},
   "outputs": [
    {
     "name": "stderr",
     "output_type": "stream",
     "text": [
      "C:\\ProgramData\\Anaconda3\\lib\\site-packages\\pandas\\core\\indexing.py:189: SettingWithCopyWarning: \n",
      "A value is trying to be set on a copy of a slice from a DataFrame\n",
      "\n",
      "See the caveats in the documentation: http://pandas.pydata.org/pandas-docs/stable/indexing.html#indexing-view-versus-copy\n",
      "  self._setitem_with_indexer(indexer, value)\n"
     ]
    }
   ],
   "source": [
    "#geotagging continents\n",
    "for i in dict_cont:\n",
    "    if dict_cont[i].shape[0]>0:\n",
    "        mapplots['ContinentType'].loc[dict_cont[i]]=i"
   ]
  },
  {
   "cell_type": "code",
   "execution_count": 46,
   "metadata": {},
   "outputs": [
    {
     "name": "stderr",
     "output_type": "stream",
     "text": [
      "C:\\ProgramData\\Anaconda3\\lib\\site-packages\\ipykernel_launcher.py:4: SettingWithCopyWarning: \n",
      "A value is trying to be set on a copy of a slice from a DataFrame\n",
      "\n",
      "See the caveats in the documentation: http://pandas.pydata.org/pandas-docs/stable/indexing.html#indexing-view-versus-copy\n",
      "  after removing the cwd from sys.path.\n"
     ]
    }
   ],
   "source": [
    "#ocean does not belong to any continent\n",
    "mapplots['ContinentType'][mapplots[\n",
    "    'TerrainType'].isin(\n",
    "    ['TERRAIN_COAST','TERRAIN_OCEAN'])]=''"
   ]
  },
  {
   "cell_type": "code",
   "execution_count": 47,
   "metadata": {},
   "outputs": [],
   "source": [
    "#solve the color ambiguity between tundra and desert\n",
    "for i in tundra_desert_dif:\n",
    "    target_ids=mapplots[mapplots['ContinentType']==i].index\n",
    "    if len(target_ids)>0:\n",
    "        mapplots['TerrainType'].loc[target_ids]=mapplots[\n",
    "            'TerrainType'].loc[target_ids].str.replace(\n",
    "            tundra_desert_dif[i][0],tundra_desert_dif[i][1])"
   ]
  },
  {
   "cell_type": "markdown",
   "metadata": {},
   "source": [
    "### natural wonders"
   ]
  },
  {
   "cell_type": "code",
   "execution_count": 48,
   "metadata": {
    "scrolled": true
   },
   "outputs": [
    {
     "name": "stderr",
     "output_type": "stream",
     "text": [
      "C:\\ProgramData\\Anaconda3\\lib\\site-packages\\ipykernel_launcher.py:18: UserWarning: Boolean Series key will be reindexed to match DataFrame index.\n",
      "C:\\ProgramData\\Anaconda3\\lib\\site-packages\\ipykernel_launcher.py:19: UserWarning: Boolean Series key will be reindexed to match DataFrame index.\n",
      "C:\\ProgramData\\Anaconda3\\lib\\site-packages\\ipykernel_launcher.py:20: UserWarning: Boolean Series key will be reindexed to match DataFrame index.\n"
     ]
    }
   ],
   "source": [
    "#filter targets based upon coordinates\n",
    "nature_available=filter_coordinates(m,nature)"
   ]
  },
  {
   "cell_type": "code",
   "execution_count": 49,
   "metadata": {
    "scrolled": true
   },
   "outputs": [
    {
     "data": {
      "text/plain": [
       "<Figure size 432x288 with 0 Axes>"
      ]
     },
     "metadata": {},
     "output_type": "display_data"
    }
   ],
   "source": [
    "#iterate through natural wonders\n",
    "nature_dict=itr_targets(lon_centre,lat_centre,\n",
    "            maph,mapw,scaler,\n",
    "            nature_available,masque,\n",
    "                projection_type=projection_type)"
   ]
  },
  {
   "cell_type": "code",
   "execution_count": 53,
   "metadata": {},
   "outputs": [],
   "source": [
    "#create dataframe\n",
    "plotfeatures=pd.DataFrame(columns=['ID','FeatureType'])\n",
    "plotfeatures['ID']=nature_dict.keys()\n",
    "plotfeatures['FeatureType']=nature_dict.values()"
   ]
  },
  {
   "cell_type": "code",
   "execution_count": 54,
   "metadata": {},
   "outputs": [],
   "source": [
    "#default placements\n",
    "natural_wonder_placements={'FEATURE_BARRIER_REEF': \n",
    " {'extra':['SW','SE'],'coast':[]},\n",
    " 'FEATURE_BERMUDA_TRIANGLE': \n",
    " {'extra':['SW','SE','W'],'coast':[]},\n",
    " 'FEATURE_CHOCOLATEHILLS': \n",
    " {'extra':['SW','W','SE'],\n",
    "  'coast':[]},\n",
    " 'FEATURE_CLIFFS_DOVER': \n",
    " {'extra':['SW'],'coast':[\n",
    "     'W','SE',\n",
    "'NW','NE']},\n",
    " 'FEATURE_DEAD_SEA': \n",
    " {'extra':['SW','SE'],'coast':[]},\n",
    " 'FEATURE_EVEREST': \n",
    " {'extra':['W','SW','SE'],\n",
    "  'coast':[]},\n",
    " 'FEATURE_EYE_OF_THE_SAHARA': \n",
    " {'extra':['SW','SE','W'],'coast':[]},\n",
    " 'FEATURE_EYJAFJALLAJOKULL': \n",
    " {'extra':['W'],'coast':[]},\n",
    " 'FEATURE_GALAPAGOS': \n",
    " {'extra':['SW','SE'],'coast':[]},\n",
    " 'FEATURE_GIANTS_CAUSEWAY': \n",
    " {'extra':[],'coast':['SW','SE']},\n",
    " 'FEATURE_GOBUSTAN': \n",
    " {'extra':['SW','SE','W'],'coast':[]},\n",
    " 'FEATURE_HA_LONG_BAY': \n",
    " {'extra':['SW','SE'],'coast':[]},\n",
    " 'FEATURE_LAKE_RETBA': \n",
    " {'extra':['SW','SE'],'coast':[]},\n",
    " 'FEATURE_LYSEFJORDEN': \n",
    " {'extra':['SW','SE','W'],'coast':\n",
    "  ['NE','NW']},\n",
    " 'FEATURE_PAITITI': \n",
    " {'extra':['SW','SE','W'],'coast':[]},\n",
    " 'FEATURE_PAMUKKALE': \n",
    " {'extra':['SW','SE'],'coast':[]},\n",
    " 'FEATURE_PANTANAL': \n",
    " {'extra':['SW','W','SE'],\n",
    "  'coast':[]},\n",
    " 'FEATURE_PIOPIOTAHI': \n",
    " {'extra':['W','SW','SE'],\n",
    "  'coast':['NW','NE']}, \n",
    " 'FEATURE_RORAIMA': \n",
    " {'extra':['NW','NE'],\n",
    "  'coast':[]},\n",
    " 'FEATURE_TORRES_DEL_PAINE':  \n",
    " {'extra':['W'],'coast':[]},\n",
    " 'FEATURE_UBSUNUR_HOLLOW': \n",
    " {'extra':['NW','NE','E'],\n",
    "  'coast':[]},\n",
    " 'FEATURE_WHITEDESERT': \n",
    " {'extra':['NW','NE','E'],\n",
    "  'coast':[]},\n",
    " 'FEATURE_YOSEMITE': \n",
    " {'extra':['W'],'coast':[]},\n",
    " 'FEATURE_ZHANGYE_DANXIA': \n",
    " {'extra':['SW','SE'],\n",
    "  'coast':[]},}"
   ]
  },
  {
   "cell_type": "code",
   "execution_count": 55,
   "metadata": {},
   "outputs": [
    {
     "name": "stderr",
     "output_type": "stream",
     "text": [
      "C:\\ProgramData\\Anaconda3\\lib\\site-packages\\pandas\\core\\indexing.py:189: SettingWithCopyWarning: \n",
      "A value is trying to be set on a copy of a slice from a DataFrame\n",
      "\n",
      "See the caveats in the documentation: http://pandas.pydata.org/pandas-docs/stable/indexing.html#indexing-view-versus-copy\n",
      "  self._setitem_with_indexer(indexer, value)\n",
      "C:\\ProgramData\\Anaconda3\\lib\\site-packages\\ipykernel_launcher.py:51: SettingWithCopyWarning: \n",
      "A value is trying to be set on a copy of a slice from a DataFrame\n",
      "\n",
      "See the caveats in the documentation: http://pandas.pydata.org/pandas-docs/stable/indexing.html#indexing-view-versus-copy\n"
     ]
    }
   ],
   "source": [
    "#prepare to check for terrains\n",
    "terrain_check=plotfeatures.merge(nature,left_on='FeatureType',\n",
    "                  right_on='code',how='left')\n",
    "\n",
    "#make terrain compatible with natural wonder\n",
    "no_feature_resource_id=[]\n",
    "for i in terrain_check.index:\n",
    "    identity=terrain_check['ID'].loc[i]\n",
    "    terrain_type=terrain_check['terrain'].loc[i]\n",
    "    wonder_name=terrain_check['FeatureType'].loc[i]\n",
    "    mapplots.at[identity,'TerrainType']=terrain_type\n",
    "        \n",
    "    #convert neighbor tiles to designated terrains\n",
    "    if terrain_check['taille'].loc[i]>1:\n",
    "        if horizontal:\n",
    "            NG=h_neighbor_graph\n",
    "        else:\n",
    "            NG=neighbor_graph\n",
    "        arr=list(NG[identity].values())\n",
    "        neighbor_ids=[]\n",
    "        water_ids=[]\n",
    "        for direction in natural_wonder_placements[wonder_name][\n",
    "            'extra']:            \n",
    "            neighbor_ids.append(\n",
    "                list(NG[identity].keys())[\n",
    "                    arr.index(direction)])\n",
    "        for direction in natural_wonder_placements[wonder_name][\n",
    "            'coast']:            \n",
    "            water_ids.append(\n",
    "                list(NG[identity].keys())[\n",
    "                    arr.index(direction)])\n",
    "        mapplots['TerrainType'].loc[\n",
    "            neighbor_ids]=terrain_type\n",
    "        \n",
    "        #keep track of natural wonder placement\n",
    "        no_feature_resource_id+=neighbor_ids\n",
    "        \n",
    "        #some natural wonders have to be near coast\n",
    "        if len(water_ids)>0:\n",
    "            mapplots['TerrainType'].loc[water_ids]='TERRAIN_COAST'\n",
    "            no_feature_resource_id+=water_ids\n",
    "    \n",
    "    #check if passable\n",
    "    if terrain_check['impassable'].loc[i]==1:\n",
    "        mapplots.at[identity,'IsImpassable']=1\n",
    "        if terrain_check['taille'].loc[i]>1:\n",
    "            mapplots['IsImpassable'].loc[\n",
    "                neighbor_ids]=1\n",
    "\n",
    "#mountain areas impassable\n",
    "mapplots['IsImpassable'][mapplots['TerrainType'].isin(impassable_terrains)]=1"
   ]
  },
  {
   "cell_type": "code",
   "execution_count": 56,
   "metadata": {},
   "outputs": [],
   "source": [
    "#randomly select a suitable terrain\n",
    "idx=mapplots[mapplots['TerrainType'].isin(\n",
    "    [\n",
    " 'TERRAIN_GRASS',\n",
    " 'TERRAIN_GRASS_HILLS',\n",
    " 'TERRAIN_PLAINS',\n",
    " 'TERRAIN_PLAINS_HILLS',])].index\n",
    "lucky_id=np.random.choice(\n",
    "    [i for i in idx if i not in nature_dict and i not in no_feature_resource_id],1)\n",
    "\n",
    "#assign youth fountain to a random place\n",
    "extra=pd.DataFrame(columns=plotfeatures.columns)\n",
    "extra['ID']=lucky_id\n",
    "extra['FeatureType']='FEATURE_FOUNTAIN_OF_YOUTH'\n",
    "plotfeatures=plotfeatures.append(extra)\n",
    "\n",
    "#add missing nature to manual checklist\n",
    "nature_checklist=set(nature_available['code']).difference(set(plotfeatures['FeatureType']))"
   ]
  },
  {
   "cell_type": "markdown",
   "metadata": {},
   "source": [
    "### features"
   ]
  },
  {
   "cell_type": "code",
   "execution_count": 57,
   "metadata": {},
   "outputs": [
    {
     "name": "stderr",
     "output_type": "stream",
     "text": [
      "C:\\ProgramData\\Anaconda3\\lib\\site-packages\\ipykernel_launcher.py:35: SettingWithCopyWarning: \n",
      "A value is trying to be set on a copy of a slice from a DataFrame\n",
      "\n",
      "See the caveats in the documentation: http://pandas.pydata.org/pandas-docs/stable/indexing.html#indexing-view-versus-copy\n",
      "C:\\ProgramData\\Anaconda3\\lib\\site-packages\\ipykernel_launcher.py:36: SettingWithCopyWarning: \n",
      "A value is trying to be set on a copy of a slice from a DataFrame\n",
      "\n",
      "See the caveats in the documentation: http://pandas.pydata.org/pandas-docs/stable/indexing.html#indexing-view-versus-copy\n",
      "C:\\ProgramData\\Anaconda3\\lib\\site-packages\\ipykernel_launcher.py:37: SettingWithCopyWarning: \n",
      "A value is trying to be set on a copy of a slice from a DataFrame\n",
      "\n",
      "See the caveats in the documentation: http://pandas.pydata.org/pandas-docs/stable/indexing.html#indexing-view-versus-copy\n",
      "C:\\ProgramData\\Anaconda3\\lib\\site-packages\\pandas\\core\\indexing.py:189: SettingWithCopyWarning: \n",
      "A value is trying to be set on a copy of a slice from a DataFrame\n",
      "\n",
      "See the caveats in the documentation: http://pandas.pydata.org/pandas-docs/stable/indexing.html#indexing-view-versus-copy\n",
      "  self._setitem_with_indexer(indexer, value)\n"
     ]
    },
    {
     "data": {
      "text/plain": [
       "<Figure size 432x288 with 0 Axes>"
      ]
     },
     "metadata": {},
     "output_type": "display_data"
    }
   ],
   "source": [
    "#iterate through different features\n",
    "for feature_name in set(feature['feature']):\n",
    "\n",
    "    #filter subset\n",
    "    subset=feature[feature['feature']==feature_name].copy()\n",
    "\n",
    "    #get arbitrary amount\n",
    "    num_of_features=feature_mapping[feature_name]['prob']*(maph*mapw)\n",
    "    target_ids=itr_multi(\n",
    "            subset,\n",
    "              lon_centre,lat_centre,\n",
    "              maph,mapw,scaler,masque,\n",
    "              int(num_of_features))\n",
    "    \n",
    "    #avoid natural wonder placement\n",
    "    target_ids=np.array([i for i in target_ids if i not in no_feature_resource_id])\n",
    "\n",
    "    #check terrains\n",
    "    feature_check=mapplots.loc[target_ids].copy()\n",
    "    suitable_terrains=feature_mapping[feature_name]['terrains']\n",
    "    feature_check['filter']=feature_check['TerrainType'].apply(\n",
    "        lambda x:1 if x in suitable_terrains else 0)\n",
    "\n",
    "    #create dataframe\n",
    "    subset=pd.DataFrame(columns=plotfeatures.columns)\n",
    "    if feature_name!='FEATURE_MARSH':\n",
    "        subset['ID']=feature_check['ID'][feature_check['filter']==1].tolist()\n",
    "        subset['FeatureType']=feature_name\n",
    "    else:\n",
    "        \n",
    "        #assign marsh and floodplains accordingly\n",
    "        feature_check=feature_check[feature_check['filter']==1].copy()\n",
    "        feature_check.reset_index(inplace=True,drop=True)\n",
    "        feature_check['name']='FEATURE_MARSH'\n",
    "        feature_check['name'][feature_check['TerrainType']=='TERRAIN_PLAINS']='FEATURE_FLOODPLAINS_PLAINS'\n",
    "        feature_check['name'][feature_check['TerrainType']=='TERRAIN_DESERT']='FEATURE_FLOODPLAINS'\n",
    "        feature_check['name'][feature_check['TerrainType']=='TERRAIN_GRASS']='FEATURE_FLOODPLAINS_GRASSLAND'\n",
    "        ind=feature_check[feature_check['TerrainType']=='TERRAIN_GRASS'].index\n",
    "        target_ids=np.random.choice(ind,size=len(ind)//2, replace=False)\n",
    "        feature_check['name'].loc[target_ids]='FEATURE_MARSH'\n",
    "        subset['ID']=feature_check['ID'].tolist()\n",
    "        subset['FeatureType']=feature_check['name'].tolist()\n",
    "        \n",
    "    plotfeatures=plotfeatures.append(subset)"
   ]
  },
  {
   "cell_type": "code",
   "execution_count": 58,
   "metadata": {},
   "outputs": [],
   "source": [
    "#drop duplicate id and reset index\n",
    "plotfeatures.reset_index(inplace=True,drop=True)\n",
    "plotfeatures=plotfeatures.loc[plotfeatures['ID'].drop_duplicates().index]"
   ]
  },
  {
   "cell_type": "code",
   "execution_count": 59,
   "metadata": {},
   "outputs": [],
   "source": [
    "#get volcano ids\n",
    "volcano_ids=plotfeatures['ID'][\n",
    "    plotfeatures['FeatureType'].isin([\n",
    "    'FEATURE_KILIMANJARO',\n",
    "'FEATURE_EYJAFJALLAJOKULL',\n",
    "'FEATURE_VESUVIUS',\n",
    "'FEATURE_VOLCANO'])].tolist()\n",
    "\n",
    "#get volcano neighbor ids\n",
    "volcano_neighbor_ids=[]\n",
    "for i in volcano_ids:\n",
    "    \n",
    "    #compute neighbor ids\n",
    "    if not horizontal:\n",
    "        neighbor_ids=list(neighbor_graph[i].keys())\n",
    "    else:        \n",
    "        neighbor_ids=list(h_neighbor_graph[i].keys())\n",
    "    volcano_neighbor_ids+=neighbor_ids"
   ]
  },
  {
   "cell_type": "code",
   "execution_count": 60,
   "metadata": {},
   "outputs": [],
   "source": [
    "#some features can be randomly generated\n",
    "for feature_name in feature_mapping:\n",
    "    if feature_mapping[feature_name]['prob']==1:\n",
    "        continue\n",
    "        \n",
    "    #certain features only exist in volcanic area\n",
    "    if feature_name in ['FEATURE_GEOTHERMAL_FISSURE',\n",
    "                          'FEATURE_VOLCANIC_SOIL']:\n",
    "        subset=mapplots.loc[volcano_neighbor_ids].copy()\n",
    "    elif feature_name in set(plotfeatures['FeatureType']):\n",
    "        continue\n",
    "    else:\n",
    "        subset=mapplots.copy()\n",
    "    \n",
    "    #avoid natural wonder placement\n",
    "    subset=subset[~subset['ID'].isin(no_feature_resource_id)]\n",
    "    \n",
    "    #randomly assignment\n",
    "    plotfeatures=random_features(plotfeatures,subset,\n",
    "            feature_name,\n",
    "            feature_mapping[feature_name]['prob'],\n",
    "            feature_mapping[feature_name]['terrains'],\n",
    "                    )"
   ]
  },
  {
   "cell_type": "code",
   "execution_count": 61,
   "metadata": {},
   "outputs": [],
   "source": [
    "#remove multi feature on the same tile\n",
    "plotfeatures.reset_index(inplace=True,drop=True)\n",
    "plotfeatures=plotfeatures.loc[plotfeatures['ID'].drop_duplicates().index]"
   ]
  },
  {
   "cell_type": "markdown",
   "metadata": {},
   "source": [
    "### true start locations"
   ]
  },
  {
   "cell_type": "code",
   "execution_count": 62,
   "metadata": {},
   "outputs": [
    {
     "name": "stderr",
     "output_type": "stream",
     "text": [
      "C:\\ProgramData\\Anaconda3\\lib\\site-packages\\ipykernel_launcher.py:18: UserWarning: Boolean Series key will be reindexed to match DataFrame index.\n",
      "C:\\ProgramData\\Anaconda3\\lib\\site-packages\\ipykernel_launcher.py:19: UserWarning: Boolean Series key will be reindexed to match DataFrame index.\n",
      "C:\\ProgramData\\Anaconda3\\lib\\site-packages\\ipykernel_launcher.py:20: UserWarning: Boolean Series key will be reindexed to match DataFrame index.\n"
     ]
    }
   ],
   "source": [
    "#filter targets based upon coordinates\n",
    "tsl_available=filter_coordinates(m,tsl)"
   ]
  },
  {
   "cell_type": "code",
   "execution_count": 63,
   "metadata": {},
   "outputs": [
    {
     "name": "stderr",
     "output_type": "stream",
     "text": [
      "C:\\ProgramData\\Anaconda3\\lib\\site-packages\\ipykernel_launcher.py:24: RuntimeWarning: Mean of empty slice.\n",
      "C:\\ProgramData\\Anaconda3\\lib\\site-packages\\numpy\\core\\_methods.py:163: RuntimeWarning: invalid value encountered in true_divide\n",
      "  ret, rcount, out=ret, casting='unsafe', subok=False)\n",
      "C:\\ProgramData\\Anaconda3\\lib\\site-packages\\ipykernel_launcher.py:24: RuntimeWarning: Mean of empty slice.\n",
      "C:\\ProgramData\\Anaconda3\\lib\\site-packages\\numpy\\core\\_methods.py:163: RuntimeWarning: invalid value encountered in true_divide\n",
      "  ret, rcount, out=ret, casting='unsafe', subok=False)\n",
      "C:\\ProgramData\\Anaconda3\\lib\\site-packages\\ipykernel_launcher.py:24: RuntimeWarning: Mean of empty slice.\n",
      "C:\\ProgramData\\Anaconda3\\lib\\site-packages\\numpy\\core\\_methods.py:163: RuntimeWarning: invalid value encountered in true_divide\n",
      "  ret, rcount, out=ret, casting='unsafe', subok=False)\n",
      "C:\\ProgramData\\Anaconda3\\lib\\site-packages\\ipykernel_launcher.py:24: RuntimeWarning: Mean of empty slice.\n",
      "C:\\ProgramData\\Anaconda3\\lib\\site-packages\\numpy\\core\\_methods.py:163: RuntimeWarning: invalid value encountered in true_divide\n",
      "  ret, rcount, out=ret, casting='unsafe', subok=False)\n",
      "C:\\ProgramData\\Anaconda3\\lib\\site-packages\\ipykernel_launcher.py:24: RuntimeWarning: Mean of empty slice.\n",
      "C:\\ProgramData\\Anaconda3\\lib\\site-packages\\numpy\\core\\_methods.py:163: RuntimeWarning: invalid value encountered in true_divide\n",
      "  ret, rcount, out=ret, casting='unsafe', subok=False)\n"
     ]
    },
    {
     "data": {
      "text/plain": [
       "<Figure size 432x288 with 0 Axes>"
      ]
     },
     "metadata": {},
     "output_type": "display_data"
    }
   ],
   "source": [
    "#iterate through true start locations\n",
    "tsl_dict=itr_targets(lon_centre,lat_centre,\n",
    "            maph,mapw,scaler,\n",
    "            tsl_available,masque,\n",
    "            name_col='code',\n",
    "            projection_type=projection_type)"
   ]
  },
  {
   "cell_type": "code",
   "execution_count": 64,
   "metadata": {},
   "outputs": [],
   "source": [
    "#create start position dataframe\n",
    "startpos=pd.DataFrame(columns=['Plot',\n",
    "                               'Type',\n",
    "                               'Value'])\n",
    "startpos['Plot']=tsl_dict.keys()\n",
    "startpos['Type']='LEADER'\n",
    "startpos['Value']=[i for i in tsl_dict.values()]"
   ]
  },
  {
   "cell_type": "code",
   "execution_count": 65,
   "metadata": {
    "scrolled": true
   },
   "outputs": [],
   "source": [
    "#check players spawn in impassable terrains\n",
    "player_check=mapplots.merge(startpos,right_on=['Plot'],\n",
    "               left_on=['ID'],\n",
    "              how='right')\n",
    "player_check1=player_check[\n",
    "    player_check['ID'].isin(no_feature_resource_id)]\n",
    "player_check2=player_check[\n",
    "    player_check['TerrainType'].isin(\n",
    "        impassable_terrains+['TERRAIN_COAST',\n",
    "                             'TERRAIN_OCEAN'])]\n",
    "player_check=player_check1.append(player_check2)\n",
    "player_check=player_check.drop_duplicates()\n",
    "\n",
    "#exclude maori which starts off at ocean tile\n",
    "player_check=player_check[player_check['Value']!='LEADER_KUPE']"
   ]
  },
  {
   "cell_type": "code",
   "execution_count": 66,
   "metadata": {
    "scrolled": true
   },
   "outputs": [
    {
     "name": "stderr",
     "output_type": "stream",
     "text": [
      "C:\\ProgramData\\Anaconda3\\lib\\site-packages\\ipykernel_launcher.py:22: SettingWithCopyWarning: \n",
      "A value is trying to be set on a copy of a slice from a DataFrame\n",
      "\n",
      "See the caveats in the documentation: http://pandas.pydata.org/pandas-docs/stable/indexing.html#indexing-view-versus-copy\n"
     ]
    }
   ],
   "source": [
    "#assign leaders to available neighbor tiles\n",
    "player_checklist=[]\n",
    "for identity in player_check['ID']:\n",
    "    \n",
    "    #compute neighbor ids\n",
    "    if not horizontal:\n",
    "        neighbor_ids=list(neighbor_graph[i].keys())\n",
    "    else:        \n",
    "        neighbor_ids=list(h_neighbor_graph[i].keys())\n",
    "    neighbors=mapplots.loc[neighbor_ids]    \n",
    "    available_neighbors=neighbors[~neighbors[\n",
    "        'TerrainType'].isin(\n",
    "        impassable_terrains+['TERRAIN_COAST',\n",
    "                             'TERRAIN_OCEAN'])]\n",
    "    available_neighbors=available_neighbors[\n",
    "        ~available_neighbors[\n",
    "        'ID'].isin(no_feature_resource_id)]\n",
    "    \n",
    "    if not available_neighbors.empty:\n",
    "        startpos['Plot'][\n",
    "            startpos['Value']==tsl_dict[\n",
    "                identity]]=available_neighbors.index[0]\n",
    "    \n",
    "    #if neighbor tiles are not available\n",
    "    #delete tsl of this leader and raise error\n",
    "    else:\n",
    "        startpos.drop(startpos[\n",
    "            startpos['Plot']==identity].index,\n",
    "                      inplace=True)"
   ]
  },
  {
   "cell_type": "code",
   "execution_count": 67,
   "metadata": {
    "scrolled": true
   },
   "outputs": [],
   "source": [
    "#avoid same tsl for two civs\n",
    "startpos=startpos.loc[startpos['Plot'].drop_duplicates().index]\n",
    "\n",
    "#add missing tsl to manual checklist\n",
    "player_checklist=list(set(tsl_available['code']).difference(set(startpos['Value'])))"
   ]
  },
  {
   "cell_type": "code",
   "execution_count": 68,
   "metadata": {},
   "outputs": [],
   "source": [
    "#recreate players table\n",
    "players=pd.DataFrame(human_player)\n",
    "\n",
    "#count number of city states\n",
    "spfilter=startpos['Value'].apply(lambda x:1 if 'LEADER_MINOR_CIV_' in x else 0)\n",
    "\n",
    "#repeat civs\n",
    "sub1=pd.DataFrame(ai_civs)\n",
    "sub1=sub1.loc[sub1.index.repeat(len(spfilter)-len(spfilter[spfilter==1])-1)]\n",
    "\n",
    "#repeat city states\n",
    "sub2=pd.DataFrame(ai_cities)\n",
    "sub2=sub2.loc[sub2.index.repeat(len(spfilter[spfilter==1]))]\n",
    "\n",
    "#create players\n",
    "players=players.append(sub1).append(sub2)\n",
    "players.reset_index(inplace=True,drop=True)\n",
    "players['ID']=players.index"
   ]
  },
  {
   "cell_type": "markdown",
   "metadata": {},
   "source": [
    "### resources"
   ]
  },
  {
   "cell_type": "code",
   "execution_count": 69,
   "metadata": {},
   "outputs": [],
   "source": [
    "#required features and terrains for resources\n",
    "resource['features']=resource['resource'].apply(\n",
    "    lambda x:resource_mapping[x]['features'])\n",
    "resource['terrains']=resource['resource'].apply(\n",
    "    lambda x:resource_mapping[x]['terrains'])"
   ]
  },
  {
   "cell_type": "code",
   "execution_count": 70,
   "metadata": {},
   "outputs": [],
   "source": [
    "#create empty dataframe\n",
    "plotresources=pd.DataFrame(columns=['ID',\n",
    "                                    'ResourceType',\n",
    "                                    'ResourceCount'])"
   ]
  },
  {
   "cell_type": "code",
   "execution_count": 71,
   "metadata": {
    "scrolled": true
   },
   "outputs": [],
   "source": [
    "#check terrain with natural wonders\n",
    "resource_check=mapplots.merge(plotfeatures,on='ID',\n",
    "              how='left')"
   ]
  },
  {
   "cell_type": "code",
   "execution_count": 72,
   "metadata": {
    "scrolled": true
   },
   "outputs": [
    {
     "name": "stderr",
     "output_type": "stream",
     "text": [
      "C:\\ProgramData\\Anaconda3\\lib\\site-packages\\ipykernel_launcher.py:22: UserWarning: Boolean Series key will be reindexed to match DataFrame index.\n",
      "C:\\ProgramData\\Anaconda3\\lib\\site-packages\\ipykernel_launcher.py:23: UserWarning: Boolean Series key will be reindexed to match DataFrame index.\n",
      "C:\\ProgramData\\Anaconda3\\lib\\site-packages\\ipykernel_launcher.py:27: UserWarning: Boolean Series key will be reindexed to match DataFrame index.\n",
      "C:\\ProgramData\\Anaconda3\\lib\\site-packages\\ipykernel_launcher.py:22: UserWarning: Boolean Series key will be reindexed to match DataFrame index.\n",
      "C:\\ProgramData\\Anaconda3\\lib\\site-packages\\ipykernel_launcher.py:23: UserWarning: Boolean Series key will be reindexed to match DataFrame index.\n",
      "C:\\ProgramData\\Anaconda3\\lib\\site-packages\\ipykernel_launcher.py:27: UserWarning: Boolean Series key will be reindexed to match DataFrame index.\n",
      "C:\\ProgramData\\Anaconda3\\lib\\site-packages\\ipykernel_launcher.py:22: UserWarning: Boolean Series key will be reindexed to match DataFrame index.\n",
      "C:\\ProgramData\\Anaconda3\\lib\\site-packages\\ipykernel_launcher.py:23: UserWarning: Boolean Series key will be reindexed to match DataFrame index.\n",
      "C:\\ProgramData\\Anaconda3\\lib\\site-packages\\ipykernel_launcher.py:27: UserWarning: Boolean Series key will be reindexed to match DataFrame index.\n",
      "C:\\ProgramData\\Anaconda3\\lib\\site-packages\\ipykernel_launcher.py:22: UserWarning: Boolean Series key will be reindexed to match DataFrame index.\n",
      "C:\\ProgramData\\Anaconda3\\lib\\site-packages\\ipykernel_launcher.py:23: UserWarning: Boolean Series key will be reindexed to match DataFrame index.\n",
      "C:\\ProgramData\\Anaconda3\\lib\\site-packages\\ipykernel_launcher.py:27: UserWarning: Boolean Series key will be reindexed to match DataFrame index.\n",
      "C:\\ProgramData\\Anaconda3\\lib\\site-packages\\ipykernel_launcher.py:22: UserWarning: Boolean Series key will be reindexed to match DataFrame index.\n",
      "C:\\ProgramData\\Anaconda3\\lib\\site-packages\\ipykernel_launcher.py:23: UserWarning: Boolean Series key will be reindexed to match DataFrame index.\n",
      "C:\\ProgramData\\Anaconda3\\lib\\site-packages\\ipykernel_launcher.py:27: UserWarning: Boolean Series key will be reindexed to match DataFrame index.\n",
      "C:\\ProgramData\\Anaconda3\\lib\\site-packages\\ipykernel_launcher.py:22: UserWarning: Boolean Series key will be reindexed to match DataFrame index.\n",
      "C:\\ProgramData\\Anaconda3\\lib\\site-packages\\ipykernel_launcher.py:23: UserWarning: Boolean Series key will be reindexed to match DataFrame index.\n",
      "C:\\ProgramData\\Anaconda3\\lib\\site-packages\\ipykernel_launcher.py:27: UserWarning: Boolean Series key will be reindexed to match DataFrame index.\n",
      "C:\\ProgramData\\Anaconda3\\lib\\site-packages\\ipykernel_launcher.py:22: UserWarning: Boolean Series key will be reindexed to match DataFrame index.\n",
      "C:\\ProgramData\\Anaconda3\\lib\\site-packages\\ipykernel_launcher.py:23: UserWarning: Boolean Series key will be reindexed to match DataFrame index.\n",
      "C:\\ProgramData\\Anaconda3\\lib\\site-packages\\ipykernel_launcher.py:27: UserWarning: Boolean Series key will be reindexed to match DataFrame index.\n",
      "C:\\ProgramData\\Anaconda3\\lib\\site-packages\\ipykernel_launcher.py:22: UserWarning: Boolean Series key will be reindexed to match DataFrame index.\n",
      "C:\\ProgramData\\Anaconda3\\lib\\site-packages\\ipykernel_launcher.py:23: UserWarning: Boolean Series key will be reindexed to match DataFrame index.\n",
      "C:\\ProgramData\\Anaconda3\\lib\\site-packages\\ipykernel_launcher.py:27: UserWarning: Boolean Series key will be reindexed to match DataFrame index.\n",
      "C:\\ProgramData\\Anaconda3\\lib\\site-packages\\ipykernel_launcher.py:22: UserWarning: Boolean Series key will be reindexed to match DataFrame index.\n",
      "C:\\ProgramData\\Anaconda3\\lib\\site-packages\\ipykernel_launcher.py:23: UserWarning: Boolean Series key will be reindexed to match DataFrame index.\n",
      "C:\\ProgramData\\Anaconda3\\lib\\site-packages\\ipykernel_launcher.py:27: UserWarning: Boolean Series key will be reindexed to match DataFrame index.\n",
      "C:\\ProgramData\\Anaconda3\\lib\\site-packages\\ipykernel_launcher.py:22: UserWarning: Boolean Series key will be reindexed to match DataFrame index.\n",
      "C:\\ProgramData\\Anaconda3\\lib\\site-packages\\ipykernel_launcher.py:23: UserWarning: Boolean Series key will be reindexed to match DataFrame index.\n",
      "C:\\ProgramData\\Anaconda3\\lib\\site-packages\\ipykernel_launcher.py:27: UserWarning: Boolean Series key will be reindexed to match DataFrame index.\n",
      "C:\\ProgramData\\Anaconda3\\lib\\site-packages\\ipykernel_launcher.py:22: UserWarning: Boolean Series key will be reindexed to match DataFrame index.\n",
      "C:\\ProgramData\\Anaconda3\\lib\\site-packages\\ipykernel_launcher.py:23: UserWarning: Boolean Series key will be reindexed to match DataFrame index.\n",
      "C:\\ProgramData\\Anaconda3\\lib\\site-packages\\ipykernel_launcher.py:27: UserWarning: Boolean Series key will be reindexed to match DataFrame index.\n",
      "C:\\ProgramData\\Anaconda3\\lib\\site-packages\\ipykernel_launcher.py:22: UserWarning: Boolean Series key will be reindexed to match DataFrame index.\n",
      "C:\\ProgramData\\Anaconda3\\lib\\site-packages\\ipykernel_launcher.py:23: UserWarning: Boolean Series key will be reindexed to match DataFrame index.\n",
      "C:\\ProgramData\\Anaconda3\\lib\\site-packages\\ipykernel_launcher.py:27: UserWarning: Boolean Series key will be reindexed to match DataFrame index.\n",
      "C:\\ProgramData\\Anaconda3\\lib\\site-packages\\ipykernel_launcher.py:22: UserWarning: Boolean Series key will be reindexed to match DataFrame index.\n",
      "C:\\ProgramData\\Anaconda3\\lib\\site-packages\\ipykernel_launcher.py:23: UserWarning: Boolean Series key will be reindexed to match DataFrame index.\n",
      "C:\\ProgramData\\Anaconda3\\lib\\site-packages\\ipykernel_launcher.py:27: UserWarning: Boolean Series key will be reindexed to match DataFrame index.\n",
      "C:\\ProgramData\\Anaconda3\\lib\\site-packages\\ipykernel_launcher.py:22: UserWarning: Boolean Series key will be reindexed to match DataFrame index.\n",
      "C:\\ProgramData\\Anaconda3\\lib\\site-packages\\ipykernel_launcher.py:23: UserWarning: Boolean Series key will be reindexed to match DataFrame index.\n",
      "C:\\ProgramData\\Anaconda3\\lib\\site-packages\\ipykernel_launcher.py:27: UserWarning: Boolean Series key will be reindexed to match DataFrame index.\n",
      "C:\\ProgramData\\Anaconda3\\lib\\site-packages\\ipykernel_launcher.py:22: UserWarning: Boolean Series key will be reindexed to match DataFrame index.\n",
      "C:\\ProgramData\\Anaconda3\\lib\\site-packages\\ipykernel_launcher.py:23: UserWarning: Boolean Series key will be reindexed to match DataFrame index.\n",
      "C:\\ProgramData\\Anaconda3\\lib\\site-packages\\ipykernel_launcher.py:27: UserWarning: Boolean Series key will be reindexed to match DataFrame index.\n",
      "C:\\ProgramData\\Anaconda3\\lib\\site-packages\\ipykernel_launcher.py:22: UserWarning: Boolean Series key will be reindexed to match DataFrame index.\n",
      "C:\\ProgramData\\Anaconda3\\lib\\site-packages\\ipykernel_launcher.py:23: UserWarning: Boolean Series key will be reindexed to match DataFrame index.\n",
      "C:\\ProgramData\\Anaconda3\\lib\\site-packages\\ipykernel_launcher.py:27: UserWarning: Boolean Series key will be reindexed to match DataFrame index.\n",
      "C:\\ProgramData\\Anaconda3\\lib\\site-packages\\ipykernel_launcher.py:22: UserWarning: Boolean Series key will be reindexed to match DataFrame index.\n",
      "C:\\ProgramData\\Anaconda3\\lib\\site-packages\\ipykernel_launcher.py:23: UserWarning: Boolean Series key will be reindexed to match DataFrame index.\n",
      "C:\\ProgramData\\Anaconda3\\lib\\site-packages\\ipykernel_launcher.py:27: UserWarning: Boolean Series key will be reindexed to match DataFrame index.\n",
      "C:\\ProgramData\\Anaconda3\\lib\\site-packages\\ipykernel_launcher.py:22: UserWarning: Boolean Series key will be reindexed to match DataFrame index.\n",
      "C:\\ProgramData\\Anaconda3\\lib\\site-packages\\ipykernel_launcher.py:23: UserWarning: Boolean Series key will be reindexed to match DataFrame index.\n",
      "C:\\ProgramData\\Anaconda3\\lib\\site-packages\\ipykernel_launcher.py:27: UserWarning: Boolean Series key will be reindexed to match DataFrame index.\n",
      "C:\\ProgramData\\Anaconda3\\lib\\site-packages\\ipykernel_launcher.py:22: UserWarning: Boolean Series key will be reindexed to match DataFrame index.\n",
      "C:\\ProgramData\\Anaconda3\\lib\\site-packages\\ipykernel_launcher.py:23: UserWarning: Boolean Series key will be reindexed to match DataFrame index.\n",
      "C:\\ProgramData\\Anaconda3\\lib\\site-packages\\ipykernel_launcher.py:27: UserWarning: Boolean Series key will be reindexed to match DataFrame index.\n"
     ]
    },
    {
     "name": "stderr",
     "output_type": "stream",
     "text": [
      "C:\\ProgramData\\Anaconda3\\lib\\site-packages\\ipykernel_launcher.py:22: UserWarning: Boolean Series key will be reindexed to match DataFrame index.\n",
      "C:\\ProgramData\\Anaconda3\\lib\\site-packages\\ipykernel_launcher.py:23: UserWarning: Boolean Series key will be reindexed to match DataFrame index.\n",
      "C:\\ProgramData\\Anaconda3\\lib\\site-packages\\ipykernel_launcher.py:27: UserWarning: Boolean Series key will be reindexed to match DataFrame index.\n",
      "C:\\ProgramData\\Anaconda3\\lib\\site-packages\\ipykernel_launcher.py:22: UserWarning: Boolean Series key will be reindexed to match DataFrame index.\n",
      "C:\\ProgramData\\Anaconda3\\lib\\site-packages\\ipykernel_launcher.py:23: UserWarning: Boolean Series key will be reindexed to match DataFrame index.\n",
      "C:\\ProgramData\\Anaconda3\\lib\\site-packages\\ipykernel_launcher.py:27: UserWarning: Boolean Series key will be reindexed to match DataFrame index.\n",
      "C:\\ProgramData\\Anaconda3\\lib\\site-packages\\ipykernel_launcher.py:22: UserWarning: Boolean Series key will be reindexed to match DataFrame index.\n",
      "C:\\ProgramData\\Anaconda3\\lib\\site-packages\\ipykernel_launcher.py:23: UserWarning: Boolean Series key will be reindexed to match DataFrame index.\n",
      "C:\\ProgramData\\Anaconda3\\lib\\site-packages\\ipykernel_launcher.py:27: UserWarning: Boolean Series key will be reindexed to match DataFrame index.\n",
      "C:\\ProgramData\\Anaconda3\\lib\\site-packages\\ipykernel_launcher.py:22: UserWarning: Boolean Series key will be reindexed to match DataFrame index.\n",
      "C:\\ProgramData\\Anaconda3\\lib\\site-packages\\ipykernel_launcher.py:23: UserWarning: Boolean Series key will be reindexed to match DataFrame index.\n",
      "C:\\ProgramData\\Anaconda3\\lib\\site-packages\\ipykernel_launcher.py:27: UserWarning: Boolean Series key will be reindexed to match DataFrame index.\n",
      "C:\\ProgramData\\Anaconda3\\lib\\site-packages\\ipykernel_launcher.py:22: UserWarning: Boolean Series key will be reindexed to match DataFrame index.\n",
      "C:\\ProgramData\\Anaconda3\\lib\\site-packages\\ipykernel_launcher.py:23: UserWarning: Boolean Series key will be reindexed to match DataFrame index.\n",
      "C:\\ProgramData\\Anaconda3\\lib\\site-packages\\ipykernel_launcher.py:27: UserWarning: Boolean Series key will be reindexed to match DataFrame index.\n",
      "C:\\ProgramData\\Anaconda3\\lib\\site-packages\\ipykernel_launcher.py:22: UserWarning: Boolean Series key will be reindexed to match DataFrame index.\n",
      "C:\\ProgramData\\Anaconda3\\lib\\site-packages\\ipykernel_launcher.py:23: UserWarning: Boolean Series key will be reindexed to match DataFrame index.\n",
      "C:\\ProgramData\\Anaconda3\\lib\\site-packages\\ipykernel_launcher.py:27: UserWarning: Boolean Series key will be reindexed to match DataFrame index.\n",
      "C:\\ProgramData\\Anaconda3\\lib\\site-packages\\ipykernel_launcher.py:22: UserWarning: Boolean Series key will be reindexed to match DataFrame index.\n",
      "C:\\ProgramData\\Anaconda3\\lib\\site-packages\\ipykernel_launcher.py:23: UserWarning: Boolean Series key will be reindexed to match DataFrame index.\n",
      "C:\\ProgramData\\Anaconda3\\lib\\site-packages\\ipykernel_launcher.py:27: UserWarning: Boolean Series key will be reindexed to match DataFrame index.\n",
      "C:\\ProgramData\\Anaconda3\\lib\\site-packages\\ipykernel_launcher.py:22: UserWarning: Boolean Series key will be reindexed to match DataFrame index.\n",
      "C:\\ProgramData\\Anaconda3\\lib\\site-packages\\ipykernel_launcher.py:23: UserWarning: Boolean Series key will be reindexed to match DataFrame index.\n",
      "C:\\ProgramData\\Anaconda3\\lib\\site-packages\\ipykernel_launcher.py:27: UserWarning: Boolean Series key will be reindexed to match DataFrame index.\n",
      "C:\\ProgramData\\Anaconda3\\lib\\site-packages\\ipykernel_launcher.py:22: UserWarning: Boolean Series key will be reindexed to match DataFrame index.\n",
      "C:\\ProgramData\\Anaconda3\\lib\\site-packages\\ipykernel_launcher.py:23: UserWarning: Boolean Series key will be reindexed to match DataFrame index.\n",
      "C:\\ProgramData\\Anaconda3\\lib\\site-packages\\ipykernel_launcher.py:27: UserWarning: Boolean Series key will be reindexed to match DataFrame index.\n",
      "C:\\ProgramData\\Anaconda3\\lib\\site-packages\\ipykernel_launcher.py:22: UserWarning: Boolean Series key will be reindexed to match DataFrame index.\n",
      "C:\\ProgramData\\Anaconda3\\lib\\site-packages\\ipykernel_launcher.py:23: UserWarning: Boolean Series key will be reindexed to match DataFrame index.\n",
      "C:\\ProgramData\\Anaconda3\\lib\\site-packages\\ipykernel_launcher.py:27: UserWarning: Boolean Series key will be reindexed to match DataFrame index.\n",
      "C:\\ProgramData\\Anaconda3\\lib\\site-packages\\ipykernel_launcher.py:22: UserWarning: Boolean Series key will be reindexed to match DataFrame index.\n",
      "C:\\ProgramData\\Anaconda3\\lib\\site-packages\\ipykernel_launcher.py:23: UserWarning: Boolean Series key will be reindexed to match DataFrame index.\n",
      "C:\\ProgramData\\Anaconda3\\lib\\site-packages\\ipykernel_launcher.py:27: UserWarning: Boolean Series key will be reindexed to match DataFrame index.\n",
      "C:\\ProgramData\\Anaconda3\\lib\\site-packages\\ipykernel_launcher.py:22: UserWarning: Boolean Series key will be reindexed to match DataFrame index.\n",
      "C:\\ProgramData\\Anaconda3\\lib\\site-packages\\ipykernel_launcher.py:23: UserWarning: Boolean Series key will be reindexed to match DataFrame index.\n",
      "C:\\ProgramData\\Anaconda3\\lib\\site-packages\\ipykernel_launcher.py:27: UserWarning: Boolean Series key will be reindexed to match DataFrame index.\n",
      "C:\\ProgramData\\Anaconda3\\lib\\site-packages\\ipykernel_launcher.py:22: UserWarning: Boolean Series key will be reindexed to match DataFrame index.\n",
      "C:\\ProgramData\\Anaconda3\\lib\\site-packages\\ipykernel_launcher.py:23: UserWarning: Boolean Series key will be reindexed to match DataFrame index.\n",
      "C:\\ProgramData\\Anaconda3\\lib\\site-packages\\ipykernel_launcher.py:27: UserWarning: Boolean Series key will be reindexed to match DataFrame index.\n",
      "C:\\ProgramData\\Anaconda3\\lib\\site-packages\\ipykernel_launcher.py:22: UserWarning: Boolean Series key will be reindexed to match DataFrame index.\n",
      "C:\\ProgramData\\Anaconda3\\lib\\site-packages\\ipykernel_launcher.py:23: UserWarning: Boolean Series key will be reindexed to match DataFrame index.\n",
      "C:\\ProgramData\\Anaconda3\\lib\\site-packages\\ipykernel_launcher.py:27: UserWarning: Boolean Series key will be reindexed to match DataFrame index.\n",
      "C:\\ProgramData\\Anaconda3\\lib\\site-packages\\ipykernel_launcher.py:22: UserWarning: Boolean Series key will be reindexed to match DataFrame index.\n",
      "C:\\ProgramData\\Anaconda3\\lib\\site-packages\\ipykernel_launcher.py:23: UserWarning: Boolean Series key will be reindexed to match DataFrame index.\n",
      "C:\\ProgramData\\Anaconda3\\lib\\site-packages\\ipykernel_launcher.py:27: UserWarning: Boolean Series key will be reindexed to match DataFrame index.\n"
     ]
    },
    {
     "data": {
      "text/plain": [
       "<Figure size 432x288 with 0 Axes>"
      ]
     },
     "metadata": {},
     "output_type": "display_data"
    }
   ],
   "source": [
    "#iterate through different resources\n",
    "for resource_name in resource_mapping:\n",
    "    \n",
    "    #check resource required terrains and features\n",
    "    if pd.isna(resource_mapping[resource_name][\n",
    "        'terrains']):\n",
    "        available_terrains=[]\n",
    "    else:\n",
    "        available_terrains=resource_mapping[\n",
    "            resource_name]['terrains'].split(';')\n",
    "    if pd.isna(resource_mapping[resource_name][\n",
    "        'features']):\n",
    "        available_features=[]\n",
    "    else:\n",
    "        available_features=resource_mapping[\n",
    "            resource_name]['features'].split(';')\n",
    "\n",
    "    #find available ids\n",
    "    s1=resource_check[\n",
    "        resource_check['TerrainType'].isin(\n",
    "            available_terrains)][\n",
    "        resource_check['FeatureType'].isnull()][\n",
    "        resource_check['IsImpassable']==0].index\n",
    "    s2=resource_check[resource_check[\n",
    "        'FeatureType'].isin(\n",
    "        available_features)][\n",
    "        resource_check['IsImpassable']==0].index\n",
    "    available_ids=set(s1).union(set(s2)).difference(\n",
    "        set(no_feature_resource_id))\n",
    "\n",
    "    #compute number of resources required\n",
    "    num_of_resource=int(resource_mapping[\n",
    "              resource_name]['prob']*mapw*maph)\n",
    "\n",
    "    \n",
    "    if len(available_ids)<=num_of_resource:\n",
    "        target_ids=list(available_ids)\n",
    "    else:\n",
    "        \n",
    "        #find random lucky ids\n",
    "        if resource_name in random_resources:\n",
    "            target_ids=np.random.choice(\n",
    "                list(available_ids),\n",
    "                num_of_resource,\n",
    "                replace=False)\n",
    "        else:\n",
    "            \n",
    "            #get ids from coordinates\n",
    "            #filter ids based upon terrains and features\n",
    "            filtered_ids=itr_multi(\n",
    "                resource[resource[\n",
    "                    'resource']==resource_name],\n",
    "                  lon_centre,lat_centre,\n",
    "                  maph,mapw,scaler,masque,\n",
    "                  int(resource_mapping[\n",
    "                      resource_name]['prob']*maph*mapw))\n",
    "            target_ids=list(set(\n",
    "                filtered_ids).intersection(\n",
    "                available_ids))\n",
    "\n",
    "    #convert to dataframe\n",
    "    subset=pd.DataFrame(columns=plotresources.columns)\n",
    "    subset['ID']=target_ids\n",
    "    subset['ResourceType']=resource_name\n",
    "    subset['ResourceCount']=1\n",
    "    plotresources=plotresources.append(subset)"
   ]
  },
  {
   "cell_type": "code",
   "execution_count": 73,
   "metadata": {},
   "outputs": [
    {
     "data": {
      "text/plain": [
       "DBSCAN(eps=1.4142135623730951, min_samples=9)"
      ]
     },
     "execution_count": 73,
     "metadata": {},
     "output_type": "execute_result"
    }
   ],
   "source": [
    "#find passable terrains\n",
    "passable_terrains=mapplots[~mapplots['TerrainType'].isin(\n",
    "    impassable_terrains+['TERRAIN_COAST',\n",
    "                             'TERRAIN_OCEAN'])].index\n",
    "\n",
    "#find terrains without resources\n",
    "empty_space=set(passable_terrains).difference(set(plotresources['ID']))\n",
    "\n",
    "#avoid natural wonders and their affiliated tiles\n",
    "empty_space=empty_space.difference(set(no_feature_resource_id))\n",
    "empty_space=empty_space.difference(set(nature_dict.keys()))\n",
    "\n",
    "#avoid youth fountain\n",
    "empty_space.remove(lucky_id[0])\n",
    "\n",
    "#dbscan to find no resource land\n",
    "clf=sklearn.cluster.DBSCAN(\n",
    "    eps=(2)**0.5,\n",
    "min_samples=tolerance4noresource**2)\n",
    "X=np.array([[i%mapw for i in empty_space],\n",
    "[i//mapw for i in empty_space]]).T\n",
    "clf.fit(X)"
   ]
  },
  {
   "cell_type": "code",
   "execution_count": 74,
   "metadata": {},
   "outputs": [],
   "source": [
    "#set median data point of the cluster as leyline\n",
    "arr=[]\n",
    "for i in np.unique(clf.labels_):\n",
    "    if i>=0:\n",
    "        arr.append(np.median(X[\n",
    "            np.where(clf.labels_==i)],axis=0))\n",
    "target_ids=[round(i[1],0)*mapw+round(i[0],0) for i in arr]\n",
    "\n",
    "#add ley line\n",
    "subset=pd.DataFrame(columns=plotresources.columns)\n",
    "subset['ID']=target_ids\n",
    "subset['ResourceType']='RESOURCE_LEY_LINE'\n",
    "subset['ResourceCount']=1\n",
    "plotresources=plotresources.append(subset)"
   ]
  },
  {
   "cell_type": "code",
   "execution_count": 75,
   "metadata": {
    "scrolled": true
   },
   "outputs": [],
   "source": [
    "#remove multi resource on the same tile\n",
    "plotresources.reset_index(inplace=True,drop=True)\n",
    "plotresources=plotresources.loc[\n",
    "    plotresources['ID'].drop_duplicates().index]"
   ]
  },
  {
   "cell_type": "code",
   "execution_count": 76,
   "metadata": {},
   "outputs": [],
   "source": [
    "#if resource has not been allocated\n",
    "#prepare to raise error\n",
    "resource_checklist=list(set(\n",
    "    resource_mapping.keys()).difference(\n",
    "    set(plotresources['ResourceType'])))"
   ]
  },
  {
   "cell_type": "code",
   "execution_count": 77,
   "metadata": {
    "scrolled": true
   },
   "outputs": [],
   "source": [
    "#adjust horizontal map coordinates\n",
    "if horizontal:\n",
    "    mapplots=horizontal_adjustment(mapplots,maph,mapw,'ID')\n",
    "    plotfeatures=horizontal_adjustment(plotfeatures,maph,mapw,'ID')\n",
    "    plotresources=horizontal_adjustment(plotresources,maph,mapw,'ID')\n",
    "    startpos=horizontal_adjustment(startpos,maph,mapw,'Plot')"
   ]
  },
  {
   "cell_type": "markdown",
   "metadata": {},
   "source": [
    "### rivers"
   ]
  },
  {
   "cell_type": "code",
   "execution_count": 78,
   "metadata": {},
   "outputs": [],
   "source": [
    "#exclude ocean tiles\n",
    "if horizontal:\n",
    "    s1=set([maph-1-x//mapw+(x%mapw)*maph for x in np.where(rivers==0)[0]])\n",
    "else:\n",
    "    s1=set(np.where(rivers==0)[0])\n",
    "s2=set(mapplots[~mapplots['TerrainType'].isin(['TERRAIN_COAST',\n",
    "                             'TERRAIN_OCEAN'])].index)\n",
    "target_ids=s1.intersection(s2)\n",
    "\n",
    "#initialize\n",
    "set_rivers=set(target_ids)\n",
    "visited=[]\n",
    "queue=[]\n",
    "flowW=[-1 for _ in range(len(mapplots))]\n",
    "flowNE=[-1 for _ in range(len(mapplots))]\n",
    "flowNW=[-1 for _ in range(len(mapplots))]\n",
    "\n",
    "#get starting point of rivers which is land adjacent to ocean\n",
    "for i in target_ids:\n",
    "    neighbor_ids=list(neighbor_graph[i].keys())\n",
    "    subset=mapplots.loc[neighbor_ids].copy()\n",
    "    subset=subset[subset['TerrainType']=='TERRAIN_COAST'].copy()\n",
    "    if not subset.empty:        \n",
    "        queue.append(i)\n",
    "        \n",
    "        #the most annoying part of river is waterflow\n",
    "        #if the waterflow is not set up probably\n",
    "        #you do not visually see the river in game\n",
    "        #becuz the water doesnt flow from ocean to inland\n",
    "        #the direction in game is contrary to the real life\n",
    "        #though you can still get river adjacency bonus \n",
    "        #despite not visually seeing it\n",
    "        #one way to see your rivers is using map editor \n",
    "        flowW,flowNW,flowNE=waterflow_design(neighbor_graph,\n",
    "                    i,subset['ID'].iloc[0],\n",
    "                    flowW,flowNW,flowNE)\n",
    "\n",
    "#create river track\n",
    "while queue:\n",
    "\n",
    "    #use dfs to track each river\n",
    "    #check the link below for more details on dfs\n",
    "    # https://github.com/je-suis-tm/graph-theory/blob/master/BFS%20DFS%20on%20DCG.ipynb\n",
    "    current_vertex=queue.pop(0)\n",
    "    visited.append(current_vertex)\n",
    "\n",
    "    #find its adjacent vertices connected to the river\n",
    "    s1=set(neighbor_graph[current_vertex].keys())\n",
    "\n",
    "    #however,each vertex can only be visited once\n",
    "    s2=set(visited)\n",
    "    subset=list(s1.intersection(set_rivers).difference(s2))\n",
    "    \n",
    "    #waterflow\n",
    "    for adj in subset:\n",
    "        flowW,flowNW,flowNE=waterflow_design(neighbor_graph,current_vertex,adj,\n",
    "                    flowW,flowNW,flowNE)\n",
    "\n",
    "    #remove duplicates in the queue\n",
    "    for i in subset:\n",
    "        if i in queue:\n",
    "            queue.remove(i)\n",
    "    queue=subset+queue\n",
    "\n",
    "#construct dataframe\n",
    "plotrivers=pd.DataFrame(columns=['ID', 'IsNEOfRiver',\n",
    "            'IsWOfRiver', 'IsNWOfRiver', 'EFlowDirection',\n",
    "       'SEFlowDirection', 'SWFlowDirection'],\n",
    "                       index=mapplots.index)\n",
    "plotrivers['ID']=plotrivers.index\n",
    "plotrivers['EFlowDirection']=flowW\n",
    "plotrivers['SEFlowDirection']=flowNW\n",
    "plotrivers['SWFlowDirection']=flowNE\n",
    "plotrivers['IsNEOfRiver']=np.where(plotrivers['SWFlowDirection']!=-1,1,0)\n",
    "plotrivers['IsWOfRiver']=np.where(plotrivers['EFlowDirection']!=-1,1,0)\n",
    "plotrivers['IsNWOfRiver']=np.where(plotrivers['SEFlowDirection']!=-1,1,0)"
   ]
  },
  {
   "cell_type": "markdown",
   "metadata": {},
   "source": [
    "### cliffs"
   ]
  },
  {
   "cell_type": "code",
   "execution_count": 79,
   "metadata": {},
   "outputs": [
    {
     "data": {
      "text/plain": [
       "<Figure size 432x288 with 0 Axes>"
      ]
     },
     "metadata": {},
     "output_type": "display_data"
    }
   ],
   "source": [
    "#size determines the number of cliffs\n",
    "falaise['taille']=4\n",
    "\n",
    "#get coastal area\n",
    "target_ids=itr_multi(\n",
    "            falaise,\n",
    "              lon_centre,lat_centre,\n",
    "              maph,mapw,scaler,masque,\n",
    "              len(falaise))\n",
    "if horizontal:\n",
    "    target_ids=np.array(\n",
    "        [maph-1-x//mapw+(x%mapw)*maph for x in target_ids])"
   ]
  },
  {
   "cell_type": "code",
   "execution_count": 80,
   "metadata": {},
   "outputs": [
    {
     "name": "stderr",
     "output_type": "stream",
     "text": [
      "C:\\ProgramData\\Anaconda3\\lib\\site-packages\\ipykernel_launcher.py:4: UserWarning: Boolean Series key will be reindexed to match DataFrame index.\n",
      "  after removing the cwd from sys.path.\n"
     ]
    }
   ],
   "source": [
    "neighbor_ids=neighbor_graph[6281].keys()\n",
    "neighbors=mapplots[mapplots['ID'].isin(neighbor_ids)][\n",
    "    mapplots['TerrainType'].isin(['TERRAIN_COAST',\n",
    "                             'TERRAIN_OCEAN'])].copy()"
   ]
  },
  {
   "cell_type": "code",
   "execution_count": 81,
   "metadata": {},
   "outputs": [
    {
     "name": "stderr",
     "output_type": "stream",
     "text": [
      "C:\\ProgramData\\Anaconda3\\lib\\site-packages\\ipykernel_launcher.py:4: UserWarning: Boolean Series key will be reindexed to match DataFrame index.\n",
      "  after removing the cwd from sys.path.\n",
      "C:\\ProgramData\\Anaconda3\\lib\\site-packages\\ipykernel_launcher.py:18: UserWarning: Boolean Series key will be reindexed to match DataFrame index.\n"
     ]
    }
   ],
   "source": [
    "#get continent shelf area\n",
    "continent_shelf=mapplots[mapplots['ID'].isin(target_ids)][\n",
    "    ~mapplots['TerrainType'].isin(['TERRAIN_COAST',\n",
    "                             'TERRAIN_OCEAN'])]\n",
    "\n",
    "#initialize\n",
    "cliffW=[0 for _ in range(len(mapplots))]\n",
    "cliffNE=[0 for _ in range(len(mapplots))]\n",
    "cliffNW=[0 for _ in range(len(mapplots))]\n",
    "\n",
    "#iterate through potential cliffs\n",
    "for i in continent_shelf['ID']:\n",
    "    \n",
    "    #find neighbors who are water tiles\n",
    "    neighbor_ids=neighbor_graph[i].keys()\n",
    "    neighbors=mapplots[mapplots['ID'].isin(neighbor_ids)][\n",
    "    mapplots['TerrainType'].isin(['TERRAIN_COAST',\n",
    "                             'TERRAIN_OCEAN'])].copy()\n",
    "    \n",
    "    #skip\n",
    "    if len(neighbors)==0:\n",
    "        continue\n",
    "    \n",
    "    #avoid isolated cliff island\n",
    "    if len(neighbors)>=4:\n",
    "        neighbors=neighbors.iloc[:3]\n",
    "    \n",
    "    #generate cliff\n",
    "    for j in neighbors.index:\n",
    "        if neighbor_graph[i][j]=='NW':\n",
    "            cliffNW[i]=1\n",
    "        if neighbor_graph[i][j]=='W':\n",
    "            cliffW[i]=1\n",
    "        if neighbor_graph[i][j]=='NE':\n",
    "            cliffNE[i]=1\n",
    "        if neighbor_graph[i][j]=='E':\n",
    "            cliffW[j]=1\n",
    "        if neighbor_graph[i][j]=='SE':\n",
    "            cliffNW[j]=1\n",
    "        if neighbor_graph[i][j]=='SW':\n",
    "            cliffNE[j]=1        "
   ]
  },
  {
   "cell_type": "code",
   "execution_count": 82,
   "metadata": {},
   "outputs": [],
   "source": [
    "#create dataframe\n",
    "plotcliffs=pd.DataFrame(columns=['ID',\n",
    "                    'IsNEOfCliff', 'IsWOfCliff', 'IsNWOfCliff'],\n",
    "                        index=mapplots.index)\n",
    "plotcliffs['ID']=plotcliffs.index\n",
    "plotcliffs['IsNEOfCliff']=cliffNE\n",
    "plotcliffs['IsNWOfCliff']=cliffNW\n",
    "plotcliffs['IsWOfCliff']=cliffW"
   ]
  },
  {
   "cell_type": "markdown",
   "metadata": {},
   "source": [
    "### update civmap database"
   ]
  },
  {
   "cell_type": "code",
   "execution_count": 83,
   "metadata": {},
   "outputs": [
    {
     "ename": "AssertionError",
     "evalue": "\nmanually assign TSL of \n        LEADER_BASIL, LEADER_MENELIK, LEADER_TRAJAN, LEADER_CYRUS, LEADER_MINOR_CIV_VALLETTA, LEADER_GANDHI, LEADER_DIDO, LEADER_MINOR_CIV_TARUGA, LEADER_MINOR_CIV_SAMARKAND, LEADER_MINOR_CIV_BABYLON, LEADER_MINOR_CIV_VATICAN_CITY, LEADER_MINOR_CIV_KABUL, LEADER_MINOR_CIV_PRESLAV\nmanually assign location of \n        RESOURCE_SPICES, RESOURCE_TRUFFLES, RESOURCE_COCOA, RESOURCE_COFFEE, RESOURCE_AMBER, RESOURCE_JADE, RESOURCE_DYES, RESOURCE_INCENSE\n",
     "output_type": "error",
     "traceback": [
      "\u001b[1;31m---------------------------------------------------------------------------\u001b[0m",
      "\u001b[1;31mAssertionError\u001b[0m                            Traceback (most recent call last)",
      "\u001b[1;32m<ipython-input-83-ee6b2d18d7ba>\u001b[0m in \u001b[0;36m<module>\u001b[1;34m\u001b[0m\n\u001b[0;32m     15\u001b[0m \u001b[1;32mif\u001b[0m \u001b[0mlen\u001b[0m\u001b[1;33m(\u001b[0m\u001b[0mplayer_checklist\u001b[0m\u001b[1;33m)\u001b[0m\u001b[1;33m>\u001b[0m\u001b[1;36m0\u001b[0m \u001b[1;32mor\u001b[0m\u001b[0;31m \u001b[0m\u001b[0;31m\\\u001b[0m\u001b[1;33m\u001b[0m\u001b[0m\n\u001b[0;32m     16\u001b[0m \u001b[0mlen\u001b[0m\u001b[1;33m(\u001b[0m\u001b[0mresource_checklist\u001b[0m\u001b[1;33m)\u001b[0m\u001b[1;33m>\u001b[0m\u001b[1;36m0\u001b[0m\u001b[1;33m:\u001b[0m\u001b[1;33m\u001b[0m\u001b[0m\n\u001b[1;32m---> 17\u001b[1;33m     \u001b[1;32massert\u001b[0m \u001b[1;32mFalse\u001b[0m\u001b[1;33m,\u001b[0m\u001b[0mtext\u001b[0m\u001b[1;33m\u001b[0m\u001b[0m\n\u001b[0m",
      "\u001b[1;31mAssertionError\u001b[0m: \nmanually assign TSL of \n        LEADER_BASIL, LEADER_MENELIK, LEADER_TRAJAN, LEADER_CYRUS, LEADER_MINOR_CIV_VALLETTA, LEADER_GANDHI, LEADER_DIDO, LEADER_MINOR_CIV_TARUGA, LEADER_MINOR_CIV_SAMARKAND, LEADER_MINOR_CIV_BABYLON, LEADER_MINOR_CIV_VATICAN_CITY, LEADER_MINOR_CIV_KABUL, LEADER_MINOR_CIV_PRESLAV\nmanually assign location of \n        RESOURCE_SPICES, RESOURCE_TRUFFLES, RESOURCE_COCOA, RESOURCE_COFFEE, RESOURCE_AMBER, RESOURCE_JADE, RESOURCE_DYES, RESOURCE_INCENSE\n"
     ]
    }
   ],
   "source": [
    "text=''\n",
    "\n",
    "if len(nature_checklist)>0:\n",
    "    text+=f\"\"\"\\nmanually assign natural wonders of \n",
    "        {', '.join(nature_checklist)}\\n\"\"\"\n",
    "    \n",
    "if len(player_checklist)>0:\n",
    "    text+=f\"\"\"\\nmanually assign TSL of \n",
    "        {', '.join(player_checklist)}\\n\"\"\"\n",
    "    \n",
    "if len(resource_checklist)>0:\n",
    "    text+=f\"\"\"manually assign location of \n",
    "        {', '.join(resource_checklist)}\\n\"\"\"\n",
    "    \n",
    "if len(player_checklist)>0 or \\\n",
    "len(resource_checklist)>0:\n",
    "    assert False,text"
   ]
  },
  {
   "cell_type": "code",
   "execution_count": 84,
   "metadata": {},
   "outputs": [],
   "source": [
    "#new name\n",
    "modtext.drop_duplicates().to_sql('ModText',\n",
    "               con=con,if_exists='replace',\n",
    "               index=False)"
   ]
  },
  {
   "cell_type": "code",
   "execution_count": 85,
   "metadata": {},
   "outputs": [],
   "source": [
    "#upsert map into database\n",
    "mapplots['IsImpassable']=mapplots['IsImpassable'].astype(int)\n",
    "mapplots.drop_duplicates().to_sql('Plots',\n",
    "                con=con,if_exists='replace',\n",
    "                index=False)"
   ]
  },
  {
   "cell_type": "code",
   "execution_count": 86,
   "metadata": {
    "scrolled": true
   },
   "outputs": [],
   "source": [
    "#remove all features\n",
    "con.execute(\"DELETE FROM PlotFeatures;\");\n",
    "con.commit()\n",
    "\n",
    "#upsert into database\n",
    "plotfeatures.drop_duplicates().to_sql('PlotFeatures',\n",
    "                    con=con,if_exists='replace',\n",
    "                    index=False)"
   ]
  },
  {
   "cell_type": "code",
   "execution_count": 87,
   "metadata": {},
   "outputs": [],
   "source": [
    "#remove all resources\n",
    "con.execute(\"DELETE FROM PlotResources;\");\n",
    "con.commit()\n",
    "\n",
    "#data type integrity to prevent error\n",
    "plotresources['ID']=plotresources['ID'].astype(int)\n",
    "\n",
    "#upsert into database\n",
    "plotresources.drop_duplicates().to_sql('PlotResources',\n",
    "                     con=con,if_exists='replace',\n",
    "                     index=False)"
   ]
  },
  {
   "cell_type": "code",
   "execution_count": 88,
   "metadata": {},
   "outputs": [],
   "source": [
    "#update tsl\n",
    "con.execute(\"DELETE FROM StartPositions;\");\n",
    "con.commit()\n",
    "con.execute(\"DELETE FROM PlayerAttributes;\");\n",
    "con.commit()\n",
    "con.execute(\"DELETE FROM Players;\");\n",
    "con.commit()\n",
    "\n",
    "startpos.drop_duplicates().to_sql('StartPositions',\n",
    "                con=con,if_exists='replace',\n",
    "                index=False)\n",
    "players.drop_duplicates().to_sql('Players',con=con,\n",
    "               if_exists='replace',index=False)"
   ]
  },
  {
   "cell_type": "code",
   "execution_count": 89,
   "metadata": {},
   "outputs": [],
   "source": [
    "#remove all rivers\n",
    "con.execute(\"DELETE FROM PlotRivers;\");\n",
    "con.commit()\n",
    "\n",
    "#data type integrity to prevent error\n",
    "for i in plotrivers.columns:\n",
    "    plotrivers[i]=plotrivers[i].astype(int)\n",
    "\n",
    "#upsert into database\n",
    "plotrivers.drop_duplicates().to_sql('PlotRivers',\n",
    "                     con=con,if_exists='replace',\n",
    "                     index=False)"
   ]
  },
  {
   "cell_type": "code",
   "execution_count": 90,
   "metadata": {},
   "outputs": [],
   "source": [
    "#remove all Cliffs\n",
    "con.execute(\"DELETE FROM PlotCliffs;\");\n",
    "con.commit()\n",
    "\n",
    "#data type integrity to prevent error\n",
    "for i in plotcliffs.columns:\n",
    "    plotcliffs[i]=plotcliffs[i].astype(int)\n",
    "\n",
    "#upsert into database\n",
    "plotcliffs.drop_duplicates().to_sql('PlotCliffs',\n",
    "                     con=con,if_exists='replace',\n",
    "                     index=False)"
   ]
  },
  {
   "cell_type": "code",
   "execution_count": 91,
   "metadata": {
    "scrolled": false
   },
   "outputs": [],
   "source": [
    "#revert back to civ6map\n",
    "con.close()\n",
    "os.rename('civ.db','mideast.Civ6Map')"
   ]
  },
  {
   "cell_type": "markdown",
   "metadata": {},
   "source": [
    "### test"
   ]
  },
  {
   "cell_type": "code",
   "execution_count": null,
   "metadata": {},
   "outputs": [],
   "source": [
    "# # k means to get centroid colors\n",
    "# # useful when you prefer other types of viz to show topographic map\n",
    "\n",
    "# from sklearn.cluster import KMeans\n",
    "# img=cv2.imread('indir.png')\n",
    "\n",
    "# num_of_clusters=7\n",
    "# X=img.reshape(img.shape[0]*img.shape[1],3)[:,[2,1,0]]\n",
    "# clf=KMeans(n_clusters=num_of_clusters)\n",
    "# clf.fit(X)\n",
    "# centroids=[i for i in range(clf.cluster_centers_.shape[0])]\n",
    "# for i in range(clf.cluster_centers_.shape[0]):\n",
    "#     centroids[i]=rgb_to_hex(tuple([int(np.ceil(j)) for j in clf.cluster_centers_[i].tolist()]))\n",
    "# print(centroids)\n",
    "# plt.scatter(range(num_of_clusters),range(num_of_clusters),c=centroids,s=500)\n",
    "# plt.show()"
   ]
  },
  {
   "cell_type": "code",
   "execution_count": null,
   "metadata": {
    "scrolled": false
   },
   "outputs": [],
   "source": [
    "# #viz new map\n",
    "# map_colors=mapplots['TerrainType'].apply(lambda x:terrain2color[x]).tolist()\n",
    "# if horizontal:\n",
    "#     plt.scatter([j for i in range(mapw) for j in range(maph)],\n",
    "#         [i for i in range(mapw) for j in range(maph)],\n",
    "#         s=20,marker='h',alpha=0.5,\n",
    "#         c=map_colors)\n",
    "# else:\n",
    "#     plt.scatter([j for i in range(maph) for j in range(mapw)],\n",
    "#         [i for i in range(maph) for j in range(mapw)],\n",
    "#         s=20,marker='h',alpha=0.5,\n",
    "#         c=map_colors)\n",
    "\n",
    "\n",
    "# for i in startpos['Plot']:\n",
    "#     if horizontal:\n",
    "#         plt.scatter(i%maph,i//maph,\n",
    "#                     label=startpos['Value'][startpos['Plot']==i].item())\n",
    "#     else:\n",
    "#         plt.scatter(i%mapw,i//mapw,\n",
    "#                     label=startpos['Value'][startpos['Plot']==i].item())\n",
    "# plt.legend(loc=8,bbox_to_anchor=(0,-1),\n",
    "#           ncol=2)\n",
    "# plt.axis('off')\n",
    "# plt.show()"
   ]
  },
  {
   "cell_type": "code",
   "execution_count": null,
   "metadata": {},
   "outputs": [],
   "source": [
    "# arr=plotresources['ResourceType'].tolist()\n",
    "\n",
    "# for i in set(arr):\n",
    "#     print(i,arr.count(i))"
   ]
  },
  {
   "cell_type": "code",
   "execution_count": null,
   "metadata": {},
   "outputs": [],
   "source": [
    "# startpos.merge(mapplots,\n",
    "#               left_on=['Plot'],\n",
    "#               right_on=['ID'],how='left')"
   ]
  },
  {
   "cell_type": "code",
   "execution_count": null,
   "metadata": {
    "scrolled": true
   },
   "outputs": [],
   "source": [
    "# arr=plotfeatures['FeatureType'].tolist()\n",
    "\n",
    "# for i in set(arr):\n",
    "#     print(i,arr.count(i))"
   ]
  },
  {
   "cell_type": "code",
   "execution_count": null,
   "metadata": {},
   "outputs": [],
   "source": []
  }
 ],
 "metadata": {
  "kernelspec": {
   "display_name": "Python 3",
   "language": "python",
   "name": "python3"
  },
  "language_info": {
   "codemirror_mode": {
    "name": "ipython",
    "version": 3
   },
   "file_extension": ".py",
   "mimetype": "text/x-python",
   "name": "python",
   "nbconvert_exporter": "python",
   "pygments_lexer": "ipython3",
   "version": "3.6.5"
  },
  "toc": {
   "base_numbering": 1,
   "nav_menu": {},
   "number_sections": false,
   "sideBar": true,
   "skip_h1_title": false,
   "title_cell": "Table of Contents",
   "title_sidebar": "Contents",
   "toc_cell": false,
   "toc_position": {
    "height": "calc(100% - 180px)",
    "left": "10px",
    "top": "150px",
    "width": "154px"
   },
   "toc_section_display": true,
   "toc_window_display": true
  }
 },
 "nbformat": 4,
 "nbformat_minor": 2
}
