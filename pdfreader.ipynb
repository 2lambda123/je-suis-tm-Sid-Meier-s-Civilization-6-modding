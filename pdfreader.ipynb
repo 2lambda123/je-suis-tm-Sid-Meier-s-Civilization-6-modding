{
 "cells": [
  {
   "cell_type": "code",
   "execution_count": 1,
   "metadata": {},
   "outputs": [],
   "source": [
    "import re\n",
    "import numpy as np\n",
    "import pandas as pd\n",
    "import os\n",
    "os.chdir('h:/')\n",
    "from io import StringIO\n",
    "from pdfminer.converter import TextConverter\n",
    "from pdfminer.layout import LAParams\n",
    "from pdfminer.pdfdocument import PDFDocument\n",
    "from pdfminer.pdfinterp import PDFResourceManager, PDFPageInterpreter\n",
    "from pdfminer.pdfpage import PDFPage\n",
    "from pdfminer.pdfparser import PDFParser"
   ]
  },
  {
   "cell_type": "code",
   "execution_count": 2,
   "metadata": {},
   "outputs": [],
   "source": [
    "#iterate pdf\n",
    "textdict={}\n",
    "for i in os.listdir():\n",
    "    if '.pdf' not in i:\n",
    "        continue\n",
    "\n",
    "    #convert pdf to text by iterating pages\n",
    "    output_string = StringIO()\n",
    "    with open(i, 'rb') as in_file:\n",
    "        parser = PDFParser(in_file)\n",
    "        doc = PDFDocument(parser)\n",
    "        rsrcmgr = PDFResourceManager()\n",
    "        device = TextConverter(rsrcmgr, output_string, laparams=LAParams())\n",
    "        interpreter = PDFPageInterpreter(rsrcmgr, device)\n",
    "        for page in PDFPage.create_pages(doc):\n",
    "            interpreter.process_page(page)\n",
    "\n",
    "    #convert\n",
    "    textdict[i]=output_string.getvalue()\n",
    "    f=open(i.replace('.pdf','.txt'),'w',encoding='utf_8_sig')\n",
    "    f.write(textdict[i])\n",
    "    f.close()\n",
    "raw=textdict['sitelist.pdf']"
   ]
  },
  {
   "cell_type": "code",
   "execution_count": 3,
   "metadata": {},
   "outputs": [],
   "source": [
    "#use regex to find coordinates\n",
    "s1=re.findall(\"\\d+°\\d+'N \\d+°\\d+'W \",raw)\n",
    "s2=re.findall(\"\\d+°\\d+'S \\d+°\\d+'W \",raw)\n",
    "s3=re.findall(\"\\d+°\\d+'N \\d+°\\d+'E \",raw)\n",
    "s4=re.findall(\"\\d+°\\d+'S \\d+°\\d+'E \",raw)\n",
    "coordinates=s1+s2+s3+s4"
   ]
  },
  {
   "cell_type": "code",
   "execution_count": 4,
   "metadata": {},
   "outputs": [],
   "source": [
    "#separate lat and lon\n",
    "lat=[i.split(' ')[0] for i in coordinates]\n",
    "lon=[i.split(' ')[1] for i in coordinates]\n",
    "\n",
    "#get base degree\n",
    "lat_base=[int(i.split('°')[0]) for i in lat]\n",
    "lon_base=[int(i.split('°')[0]) for i in lon]\n",
    "\n",
    "#get sign based on north south east west\n",
    "lat_sign=[i[-1].replace('N','1').replace('S','-1') for i in lat]\n",
    "lon_sign=[i[-1].replace('E','1').replace('W','-1') for i in lon]\n",
    "\n",
    "#convert minute to decimal degree\n",
    "lat_dec=[int(i.split('°')[-1][:2])/60 for i in lat]\n",
    "lon_dec=[int(i.split('°')[-1][:2])/60 for i in lon]"
   ]
  },
  {
   "cell_type": "code",
   "execution_count": 5,
   "metadata": {},
   "outputs": [],
   "source": [
    "#concatenate\n",
    "lats=np.multiply(np.add(lat_base,lat_dec),np.array(lat_sign,dtype=float))\n",
    "lons=np.multiply(np.add(lon_base,lon_dec),np.array(lon_sign,dtype=float))"
   ]
  },
  {
   "cell_type": "code",
   "execution_count": 6,
   "metadata": {},
   "outputs": [],
   "source": [
    "#create df\n",
    "df=pd.DataFrame(columns=['identifier',\n",
    "        'latitude', 'longitude', 'feature', 'taille'])\n",
    "df['identifier']=range(len(lats))\n",
    "df['latitude']=lats\n",
    "df['longitude']=lons\n",
    "df['feature']='FEATURE_MARSH'\n",
    "df['taille']=3"
   ]
  },
  {
   "cell_type": "code",
   "execution_count": 7,
   "metadata": {
    "scrolled": true
   },
   "outputs": [],
   "source": [
    "#shrink data size\n",
    "df['lat']=df['latitude'].apply(lambda x:round(x))\n",
    "df['lon']=df['longitude'].apply(lambda x:round(x))\n",
    "df=df.sort_values(['latitude','longitude'])\n",
    "df=df.loc[df[['lat','lon']].drop_duplicates().index]\n",
    "del df['lat']\n",
    "del df['lon']\n",
    "df.to_csv('marsh.csv',index=False)"
   ]
  },
  {
   "cell_type": "code",
   "execution_count": null,
   "metadata": {},
   "outputs": [],
   "source": []
  }
 ],
 "metadata": {
  "kernelspec": {
   "display_name": "Python 3",
   "language": "python",
   "name": "python3"
  },
  "language_info": {
   "codemirror_mode": {
    "name": "ipython",
    "version": 3
   },
   "file_extension": ".py",
   "mimetype": "text/x-python",
   "name": "python",
   "nbconvert_exporter": "python",
   "pygments_lexer": "ipython3",
   "version": "3.7.6"
  },
  "toc": {
   "base_numbering": 1,
   "nav_menu": {},
   "number_sections": true,
   "sideBar": true,
   "skip_h1_title": false,
   "title_cell": "Table of Contents",
   "title_sidebar": "Contents",
   "toc_cell": false,
   "toc_position": {},
   "toc_section_display": true,
   "toc_window_display": false
  },
  "varInspector": {
   "cols": {
    "lenName": 16,
    "lenType": 16,
    "lenVar": 40
   },
   "kernels_config": {
    "python": {
     "delete_cmd_postfix": "",
     "delete_cmd_prefix": "del ",
     "library": "var_list.py",
     "varRefreshCmd": "print(var_dic_list())"
    },
    "r": {
     "delete_cmd_postfix": ") ",
     "delete_cmd_prefix": "rm(",
     "library": "var_list.r",
     "varRefreshCmd": "cat(var_dic_list()) "
    }
   },
   "types_to_exclude": [
    "module",
    "function",
    "builtin_function_or_method",
    "instance",
    "_Feature"
   ],
   "window_display": false
  }
 },
 "nbformat": 4,
 "nbformat_minor": 4
}
