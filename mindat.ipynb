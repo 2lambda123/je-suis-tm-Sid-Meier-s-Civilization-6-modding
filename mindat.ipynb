{
 "cells": [
  {
   "cell_type": "code",
   "execution_count": 1,
   "metadata": {},
   "outputs": [],
   "source": [
    "import os\n",
    "import re\n",
    "import numpy as np\n",
    "import pandas as pd\n",
    "os.chdir('K:/ecole/github/televerser/civ6/misc/minerals')"
   ]
  },
  {
   "cell_type": "code",
   "execution_count": 2,
   "metadata": {},
   "outputs": [],
   "source": [
    "#ultimate dataframe for output\n",
    "export=pd.DataFrame(columns=['identifier', 'latitude',\n",
    "                'longitude', 'taille', 'resource'])"
   ]
  },
  {
   "cell_type": "code",
   "execution_count": 3,
   "metadata": {},
   "outputs": [
    {
     "name": "stderr",
     "output_type": "stream",
     "text": [
      "C:\\ProgramData\\Anaconda3\\lib\\site-packages\\pandas\\core\\frame.py:6201: FutureWarning: Sorting because non-concatenation axis is not aligned. A future version\n",
      "of pandas will change to not sort by default.\n",
      "\n",
      "To accept the future behavior, pass 'sort=True'.\n",
      "\n",
      "To retain the current behavior and silence the warning, pass sort=False\n",
      "\n",
      "  sort=sort)\n"
     ]
    }
   ],
   "source": [
    "#iterate through downloaded htmls\n",
    "#urls of html files come from the link below\n",
    "# https://github.com/je-suis-tm/Sid-Meier-s-Civilization-6-modding/blob/main/data/source.md\n",
    "for i in [jj for jj in os.listdir()]:\n",
    "    mineral=i.split('_')[0]\n",
    "    \n",
    "\n",
    "    #read html\n",
    "    f=open(i,'r',\n",
    "          encoding='utf_8_sig')\n",
    "    page=f.read()\n",
    "    f.close()\n",
    "\n",
    "    #only get coordinates from leaflet js\n",
    "    text=page[page.index('l_mcd[mapid].pts = [\\n'):]\n",
    "    text=text[:text.index(']];')]\n",
    "\n",
    "    #get numbers\n",
    "    coordinates=re.findall('-?\\d*\\.?\\d*\\,?-?\\d*\\.?\\d*\\,-?\\d*\\.?\\d*\\,-?\\d*\\.?\\d*\\,',\n",
    "                           text)\n",
    "\n",
    "    #create dataframe\n",
    "    df=pd.DataFrame()\n",
    "    df['latitude']=[float(i.split(',')[0]) for i in coordinates]\n",
    "    df['longitude']=[float(i.split(',')[1]) for i in coordinates]\n",
    "    df['resource']=f'RESOURCE_{mineral.upper()}'\n",
    "    df['taille']=[np.log(float(i.split(',')[3])) for i in coordinates]\n",
    "    df.reset_index(inplace=True)\n",
    "    df.columns=['identifier', 'latitude',\n",
    "                'longitude', 'resource', 'taille', ]\n",
    "    export=export.append(df)"
   ]
  },
  {
   "cell_type": "code",
   "execution_count": 4,
   "metadata": {},
   "outputs": [],
   "source": [
    "#cleanse mineral names\n",
    "export['resource']=export['resource'].replace({\n",
    "    'RESOURCE_ALUMINA':'RESOURCE_ALUMINUM',\n",
    "    'RESOURCE_ALUMINIUM':'RESOURCE_ALUMINUM',\n",
    "'RESOURCE_DIAMOND':'RESOURCE_DIAMONDS',})"
   ]
  },
  {
   "cell_type": "code",
   "execution_count": 5,
   "metadata": {},
   "outputs": [],
   "source": [
    "export.to_csv('output.csv',index=False)"
   ]
  }
 ],
 "metadata": {
  "kernelspec": {
   "display_name": "Python 3",
   "language": "python",
   "name": "python3"
  },
  "language_info": {
   "codemirror_mode": {
    "name": "ipython",
    "version": 3
   },
   "file_extension": ".py",
   "mimetype": "text/x-python",
   "name": "python",
   "nbconvert_exporter": "python",
   "pygments_lexer": "ipython3",
   "version": "3.6.5"
  },
  "toc": {
   "base_numbering": 1,
   "nav_menu": {},
   "number_sections": true,
   "sideBar": true,
   "skip_h1_title": false,
   "title_cell": "Table of Contents",
   "title_sidebar": "Contents",
   "toc_cell": false,
   "toc_position": {},
   "toc_section_display": true,
   "toc_window_display": false
  }
 },
 "nbformat": 4,
 "nbformat_minor": 2
}
