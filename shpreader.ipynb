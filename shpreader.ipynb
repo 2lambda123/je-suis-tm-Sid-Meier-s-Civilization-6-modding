{
 "cells": [
  {
   "cell_type": "code",
   "execution_count": 1,
   "metadata": {},
   "outputs": [],
   "source": [
    "import os\n",
    "os.chdir('h:/Reefs')\n",
    "import json\n",
    "import pandas as pd\n",
    "\n",
    "#import packages\n",
    "#to install gdal is painful\n",
    "#the recommendation is to pip install whl files\n",
    "#download file with respect to ur python version\n",
    "#cp36 refers to python 3.6\n",
    "# https://www.lfd.uci.edu/~gohlke/pythonlibs/#gdal\n",
    "from osgeo import ogr,osr"
   ]
  },
  {
   "cell_type": "code",
   "execution_count": 2,
   "metadata": {},
   "outputs": [],
   "source": [
    "filename='WCMC008_CoralReef2018_Py_v4_1'\n",
    "\n",
    "#read shape file\n",
    "infile = ogr.Open(f\"{filename}.shp\")\n",
    "layer = infile.GetLayer()"
   ]
  },
  {
   "cell_type": "code",
   "execution_count": 3,
   "metadata": {},
   "outputs": [],
   "source": [
    "#convert different features into json then nested lists\n",
    "#since coral shapes are small areas we just take the first coordinate for simplicity\n",
    "arr=[]\n",
    "for i in range(layer.GetFeatureCount()):\n",
    "    feature = layer.GetFeature(i)\n",
    "    nested=json.loads(feature.ExportToJson())['geometry']['coordinates']\n",
    "    arr+=nested[0][0]"
   ]
  },
  {
   "cell_type": "code",
   "execution_count": 4,
   "metadata": {},
   "outputs": [],
   "source": [
    "#create dataframe\n",
    "df=pd.DataFrame()\n",
    "df['identifier']=range(len(arr)/2)\n",
    "df['longitude']=arr[0::2]\n",
    "df['latitude']=arr[1::2]\n",
    "df['feature']='FEATURE_REEF'\n",
    "df['taille']=2"
   ]
  },
  {
   "cell_type": "code",
   "execution_count": 5,
   "metadata": {},
   "outputs": [],
   "source": [
    "#shrink data precision\n",
    "df['lon']=df['longitude'].apply(lambda x:round(x))\n",
    "df['lat']=df['latitude'].apply(lambda x:round(x))\n",
    "df=df.sort_values(['longitude','latitude'])\n",
    "df.reset_index(inplace=True,drop=True) \n",
    "ind=df[['lon','lat']].drop_duplicates().index\n",
    "df=df.loc[ind]"
   ]
  },
  {
   "cell_type": "code",
   "execution_count": 6,
   "metadata": {},
   "outputs": [],
   "source": [
    "#delete useless cols\n",
    "del df['lon']\n",
    "del df['lat']\n",
    "df.to_csv('corals.csv',index=False)"
   ]
  },
  {
   "cell_type": "code",
   "execution_count": null,
   "metadata": {},
   "outputs": [],
   "source": []
  }
 ],
 "metadata": {
  "kernelspec": {
   "display_name": "Python 3",
   "language": "python",
   "name": "python3"
  },
  "language_info": {
   "codemirror_mode": {
    "name": "ipython",
    "version": 3
   },
   "file_extension": ".py",
   "mimetype": "text/x-python",
   "name": "python",
   "nbconvert_exporter": "python",
   "pygments_lexer": "ipython3",
   "version": "3.6.5"
  },
  "toc": {
   "base_numbering": 1,
   "nav_menu": {},
   "number_sections": true,
   "sideBar": true,
   "skip_h1_title": false,
   "title_cell": "Table of Contents",
   "title_sidebar": "Contents",
   "toc_cell": false,
   "toc_position": {},
   "toc_section_display": true,
   "toc_window_display": false
  },
  "varInspector": {
   "cols": {
    "lenName": 16,
    "lenType": 16,
    "lenVar": 40
   },
   "kernels_config": {
    "python": {
     "delete_cmd_postfix": "",
     "delete_cmd_prefix": "del ",
     "library": "var_list.py",
     "varRefreshCmd": "print(var_dic_list())"
    },
    "r": {
     "delete_cmd_postfix": ") ",
     "delete_cmd_prefix": "rm(",
     "library": "var_list.r",
     "varRefreshCmd": "cat(var_dic_list()) "
    }
   },
   "types_to_exclude": [
    "module",
    "function",
    "builtin_function_or_method",
    "instance",
    "_Feature"
   ],
   "window_display": false
  }
 },
 "nbformat": 4,
 "nbformat_minor": 4
}
