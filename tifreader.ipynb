{
 "cells": [
  {
   "cell_type": "code",
   "execution_count": 1,
   "metadata": {},
   "outputs": [],
   "source": [
    "#read file\n",
    "crop_name='wheat'\n",
    "directory=f'K:/ecole/github/televerser/civ6/misc/crops/yield/{crop_name}_HarvAreaYield_Geotiff'\n",
    "\n",
    "#import packages\n",
    "#to install gdal is painful\n",
    "#the recommendation is to pip install whl files\n",
    "#download file with respect to ur python version\n",
    "#cp36 refers to python 3.6\n",
    "# https://www.lfd.uci.edu/~gohlke/pythonlibs/#gdal\n",
    "from osgeo import gdal\n",
    "import pandas as pd\n",
    "import numpy as np\n",
    "import matplotlib.pyplot as plt\n",
    "from mpl_toolkits.basemap import Basemap\n",
    "import os\n",
    "os.chdir(directory)"
   ]
  },
  {
   "cell_type": "code",
   "execution_count": 2,
   "metadata": {},
   "outputs": [],
   "source": [
    "#read geotiff\n",
    "ds=gdal.Open(f'{crop_name}_Production.tif')\n",
    "\n",
    "#get data\n",
    "data=ds.GetRasterBand(1).ReadAsArray()\n",
    "\n",
    "#GDAL affine transform parameters\n",
    "#according to gdal documentation xoff/yoff are image left corner\n",
    "#a/e are pixel wight/height and b/d is rotation and is zero if image is north up\n",
    "# https://scriptndebug.wordpress.com/2014/11/24/latitudelongitude-of-each-pixel-using-python-and-gdal/\n",
    "xoff,a,b,yoff,d,e=ds.GetGeoTransform()\n",
    "\n",
    "# #get coordinates\n",
    "# lons=[a*col+b*row+xoff for row in range(data.shape[0]) for col in range(data.shape[1])]\n",
    "# lats=[d*col+e*row+yoff for row in range(data.shape[0]) for col in range(data.shape[1])]\n",
    "\n",
    "#matrix inner product to boost execution speed\n",
    "lon_prod=np.array([[b],[a]])\n",
    "lat_prod=np.array([[e],[d]])\n",
    "coors=np.array(np.where(~np.isnan(data))).T\n",
    "lons=coors@lon_prod+xoff\n",
    "lats=coors@lat_prod+yoff"
   ]
  },
  {
   "cell_type": "code",
   "execution_count": 3,
   "metadata": {},
   "outputs": [
    {
     "name": "stderr",
     "output_type": "stream",
     "text": [
      "C:\\ProgramData\\Anaconda3\\lib\\site-packages\\ipykernel_launcher.py:12: SettingWithCopyWarning: \n",
      "A value is trying to be set on a copy of a slice from a DataFrame.\n",
      "Try using .loc[row_indexer,col_indexer] = value instead\n",
      "\n",
      "See the caveats in the documentation: http://pandas.pydata.org/pandas-docs/stable/indexing.html#indexing-view-versus-copy\n",
      "  if sys.path[0] == '':\n"
     ]
    }
   ],
   "source": [
    "#create dataframe\n",
    "df=pd.DataFrame()\n",
    "df['lon']=lons\n",
    "df['lat']=lats\n",
    "df['value']=data.flatten()\n",
    "df.dropna(inplace=True)\n",
    "\n",
    "#only get significant value\n",
    "export=df[df['value']>np.percentile(df['value'],95)]\n",
    "\n",
    "#log scale\n",
    "export['value']=np.log(export['value'])"
   ]
  },
  {
   "cell_type": "code",
   "execution_count": 4,
   "metadata": {},
   "outputs": [
    {
     "data": {
      "image/png": "[encoded data removed]",
      "text/plain": [
       "<Figure size 432x288 with 1 Axes>"
      ]
     },
     "metadata": {},
     "output_type": "display_data"
    }
   ],
   "source": [
    "#viz\n",
    "m=Basemap()\n",
    "m.drawlsmask()\n",
    "x,y=m(export['lon'],export['lat'])\n",
    "plt.scatter(x,y,color='red',s=(export['value']))\n",
    "plt.show()"
   ]
  },
  {
   "cell_type": "code",
   "execution_count": 5,
   "metadata": {},
   "outputs": [],
   "source": [
    "#save data\n",
    "export.to_csv(f'{crop_name}.csv',index=False)"
   ]
  },
  {
   "cell_type": "code",
   "execution_count": null,
   "metadata": {},
   "outputs": [],
   "source": []
  }
 ],
 "metadata": {
  "kernelspec": {
   "display_name": "Python 3",
   "language": "python",
   "name": "python3"
  },
  "language_info": {
   "codemirror_mode": {
    "name": "ipython",
    "version": 3
   },
   "file_extension": ".py",
   "mimetype": "text/x-python",
   "name": "python",
   "nbconvert_exporter": "python",
   "pygments_lexer": "ipython3",
   "version": "3.6.5"
  },
  "toc": {
   "base_numbering": 1,
   "nav_menu": {},
   "number_sections": true,
   "sideBar": true,
   "skip_h1_title": false,
   "title_cell": "Table of Contents",
   "title_sidebar": "Contents",
   "toc_cell": false,
   "toc_position": {},
   "toc_section_display": true,
   "toc_window_display": false
  }
 },
 "nbformat": 4,
 "nbformat_minor": 2
}
